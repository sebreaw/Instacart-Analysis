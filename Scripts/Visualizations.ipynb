{
 "cells": [
  {
   "cell_type": "code",
   "execution_count": 2,
   "id": "7f24882c",
   "metadata": {},
   "outputs": [],
   "source": [
    "#Import libraries\n",
    "import pandas as pd\n",
    "import numpy as np\n",
    "import os\n",
    "import matplotlib.pyplot as plt\n",
    "import seaborn as sns\n",
    "import scipy"
   ]
  },
  {
   "cell_type": "code",
   "execution_count": 3,
   "id": "effe1ffa",
   "metadata": {},
   "outputs": [],
   "source": [
    "path = r'/Users/sebreawilmore/Instacart Basket Analysis'"
   ]
  },
  {
   "cell_type": "code",
   "execution_count": 4,
   "id": "66ee03da",
   "metadata": {},
   "outputs": [],
   "source": [
    "df = pd.read_pickle(r'/Users/sebreawilmore/Instacart Basket Analysis/Data/customers_orders_products.pkl')"
   ]
  },
  {
   "cell_type": "code",
   "execution_count": 5,
   "id": "297e4dc2",
   "metadata": {},
   "outputs": [
    {
     "data": {
      "text/html": [
       "<div>\n",
       "<style scoped>\n",
       "    .dataframe tbody tr th:only-of-type {\n",
       "        vertical-align: middle;\n",
       "    }\n",
       "\n",
       "    .dataframe tbody tr th {\n",
       "        vertical-align: top;\n",
       "    }\n",
       "\n",
       "    .dataframe thead th {\n",
       "        text-align: right;\n",
       "    }\n",
       "</style>\n",
       "<table border=\"1\" class=\"dataframe\">\n",
       "  <thead>\n",
       "    <tr style=\"text-align: right;\">\n",
       "      <th></th>\n",
       "      <th>user_id</th>\n",
       "      <th>first</th>\n",
       "      <th>last</th>\n",
       "      <th>gender</th>\n",
       "      <th>state</th>\n",
       "      <th>age</th>\n",
       "      <th>date_joined</th>\n",
       "      <th>no_of_dependents</th>\n",
       "      <th>marital_status</th>\n",
       "      <th>income</th>\n",
       "      <th>...</th>\n",
       "      <th>busiest_day</th>\n",
       "      <th>busiest_period_of_day</th>\n",
       "      <th>max_order</th>\n",
       "      <th>loyalty_flag</th>\n",
       "      <th>mean_order</th>\n",
       "      <th>spending_flag</th>\n",
       "      <th>average_order</th>\n",
       "      <th>user_frequency</th>\n",
       "      <th>frequency_flag</th>\n",
       "      <th>_merge</th>\n",
       "    </tr>\n",
       "  </thead>\n",
       "  <tbody>\n",
       "    <tr>\n",
       "      <th>0</th>\n",
       "      <td>26711.0</td>\n",
       "      <td>Deborah</td>\n",
       "      <td>Esquivel</td>\n",
       "      <td>Female</td>\n",
       "      <td>Missouri</td>\n",
       "      <td>48.0</td>\n",
       "      <td>1/1/2017</td>\n",
       "      <td>3.0</td>\n",
       "      <td>married</td>\n",
       "      <td>165665.0</td>\n",
       "      <td>...</td>\n",
       "      <td>Busiest days</td>\n",
       "      <td>Most orders</td>\n",
       "      <td>8.0</td>\n",
       "      <td>New customer</td>\n",
       "      <td>7.988889</td>\n",
       "      <td>Low spender</td>\n",
       "      <td>7.988889</td>\n",
       "      <td>19.0</td>\n",
       "      <td>Regular customer</td>\n",
       "      <td>both</td>\n",
       "    </tr>\n",
       "    <tr>\n",
       "      <th>1</th>\n",
       "      <td>26711.0</td>\n",
       "      <td>Deborah</td>\n",
       "      <td>Esquivel</td>\n",
       "      <td>Female</td>\n",
       "      <td>Missouri</td>\n",
       "      <td>48.0</td>\n",
       "      <td>1/1/2017</td>\n",
       "      <td>3.0</td>\n",
       "      <td>married</td>\n",
       "      <td>165665.0</td>\n",
       "      <td>...</td>\n",
       "      <td>Regularly busy</td>\n",
       "      <td>Most orders</td>\n",
       "      <td>8.0</td>\n",
       "      <td>New customer</td>\n",
       "      <td>7.988889</td>\n",
       "      <td>Low spender</td>\n",
       "      <td>7.988889</td>\n",
       "      <td>19.0</td>\n",
       "      <td>Regular customer</td>\n",
       "      <td>both</td>\n",
       "    </tr>\n",
       "    <tr>\n",
       "      <th>2</th>\n",
       "      <td>26711.0</td>\n",
       "      <td>Deborah</td>\n",
       "      <td>Esquivel</td>\n",
       "      <td>Female</td>\n",
       "      <td>Missouri</td>\n",
       "      <td>48.0</td>\n",
       "      <td>1/1/2017</td>\n",
       "      <td>3.0</td>\n",
       "      <td>married</td>\n",
       "      <td>165665.0</td>\n",
       "      <td>...</td>\n",
       "      <td>Busiest days</td>\n",
       "      <td>Most orders</td>\n",
       "      <td>8.0</td>\n",
       "      <td>New customer</td>\n",
       "      <td>7.988889</td>\n",
       "      <td>Low spender</td>\n",
       "      <td>7.988889</td>\n",
       "      <td>19.0</td>\n",
       "      <td>Regular customer</td>\n",
       "      <td>both</td>\n",
       "    </tr>\n",
       "    <tr>\n",
       "      <th>3</th>\n",
       "      <td>26711.0</td>\n",
       "      <td>Deborah</td>\n",
       "      <td>Esquivel</td>\n",
       "      <td>Female</td>\n",
       "      <td>Missouri</td>\n",
       "      <td>48.0</td>\n",
       "      <td>1/1/2017</td>\n",
       "      <td>3.0</td>\n",
       "      <td>married</td>\n",
       "      <td>165665.0</td>\n",
       "      <td>...</td>\n",
       "      <td>Regularly busy</td>\n",
       "      <td>Most orders</td>\n",
       "      <td>8.0</td>\n",
       "      <td>New customer</td>\n",
       "      <td>7.988889</td>\n",
       "      <td>Low spender</td>\n",
       "      <td>7.988889</td>\n",
       "      <td>19.0</td>\n",
       "      <td>Regular customer</td>\n",
       "      <td>both</td>\n",
       "    </tr>\n",
       "    <tr>\n",
       "      <th>4</th>\n",
       "      <td>26711.0</td>\n",
       "      <td>Deborah</td>\n",
       "      <td>Esquivel</td>\n",
       "      <td>Female</td>\n",
       "      <td>Missouri</td>\n",
       "      <td>48.0</td>\n",
       "      <td>1/1/2017</td>\n",
       "      <td>3.0</td>\n",
       "      <td>married</td>\n",
       "      <td>165665.0</td>\n",
       "      <td>...</td>\n",
       "      <td>Least busy days</td>\n",
       "      <td>Most orders</td>\n",
       "      <td>8.0</td>\n",
       "      <td>New customer</td>\n",
       "      <td>7.988889</td>\n",
       "      <td>Low spender</td>\n",
       "      <td>7.988889</td>\n",
       "      <td>19.0</td>\n",
       "      <td>Regular customer</td>\n",
       "      <td>both</td>\n",
       "    </tr>\n",
       "  </tbody>\n",
       "</table>\n",
       "<p>5 rows × 34 columns</p>\n",
       "</div>"
      ],
      "text/plain": [
       "   user_id    first      last  gender     state   age date_joined  \\\n",
       "0  26711.0  Deborah  Esquivel  Female  Missouri  48.0    1/1/2017   \n",
       "1  26711.0  Deborah  Esquivel  Female  Missouri  48.0    1/1/2017   \n",
       "2  26711.0  Deborah  Esquivel  Female  Missouri  48.0    1/1/2017   \n",
       "3  26711.0  Deborah  Esquivel  Female  Missouri  48.0    1/1/2017   \n",
       "4  26711.0  Deborah  Esquivel  Female  Missouri  48.0    1/1/2017   \n",
       "\n",
       "   no_of_dependents marital_status    income  ...      busiest_day  \\\n",
       "0               3.0        married  165665.0  ...     Busiest days   \n",
       "1               3.0        married  165665.0  ...   Regularly busy   \n",
       "2               3.0        married  165665.0  ...     Busiest days   \n",
       "3               3.0        married  165665.0  ...   Regularly busy   \n",
       "4               3.0        married  165665.0  ...  Least busy days   \n",
       "\n",
       "   busiest_period_of_day  max_order  loyalty_flag  mean_order  spending_flag  \\\n",
       "0            Most orders        8.0  New customer    7.988889    Low spender   \n",
       "1            Most orders        8.0  New customer    7.988889    Low spender   \n",
       "2            Most orders        8.0  New customer    7.988889    Low spender   \n",
       "3            Most orders        8.0  New customer    7.988889    Low spender   \n",
       "4            Most orders        8.0  New customer    7.988889    Low spender   \n",
       "\n",
       "   average_order  user_frequency    frequency_flag _merge  \n",
       "0       7.988889            19.0  Regular customer   both  \n",
       "1       7.988889            19.0  Regular customer   both  \n",
       "2       7.988889            19.0  Regular customer   both  \n",
       "3       7.988889            19.0  Regular customer   both  \n",
       "4       7.988889            19.0  Regular customer   both  \n",
       "\n",
       "[5 rows x 34 columns]"
      ]
     },
     "execution_count": 5,
     "metadata": {},
     "output_type": "execute_result"
    }
   ],
   "source": [
    "df.head()"
   ]
  },
  {
   "cell_type": "code",
   "execution_count": 6,
   "id": "27af66e6",
   "metadata": {},
   "outputs": [],
   "source": [
    "#Creating a crosstab of days_since_prior_order & order_number\n",
    "crosstab = pd.crosstab(df['days_since_prior_order'], df['order_number'], dropna = False)\n"
   ]
  },
  {
   "cell_type": "code",
   "execution_count": 7,
   "id": "80f111cc",
   "metadata": {
    "scrolled": true
   },
   "outputs": [
    {
     "data": {
      "text/html": [
       "<div>\n",
       "<style scoped>\n",
       "    .dataframe tbody tr th:only-of-type {\n",
       "        vertical-align: middle;\n",
       "    }\n",
       "\n",
       "    .dataframe tbody tr th {\n",
       "        vertical-align: top;\n",
       "    }\n",
       "\n",
       "    .dataframe thead th {\n",
       "        text-align: right;\n",
       "    }\n",
       "</style>\n",
       "<table border=\"1\" class=\"dataframe\">\n",
       "  <thead>\n",
       "    <tr style=\"text-align: right;\">\n",
       "      <th>order_number</th>\n",
       "      <th>1.0</th>\n",
       "      <th>2.0</th>\n",
       "      <th>3.0</th>\n",
       "      <th>4.0</th>\n",
       "      <th>5.0</th>\n",
       "      <th>6.0</th>\n",
       "      <th>7.0</th>\n",
       "      <th>8.0</th>\n",
       "      <th>9.0</th>\n",
       "      <th>10.0</th>\n",
       "      <th>...</th>\n",
       "      <th>90.0</th>\n",
       "      <th>91.0</th>\n",
       "      <th>92.0</th>\n",
       "      <th>93.0</th>\n",
       "      <th>94.0</th>\n",
       "      <th>95.0</th>\n",
       "      <th>96.0</th>\n",
       "      <th>97.0</th>\n",
       "      <th>98.0</th>\n",
       "      <th>99.0</th>\n",
       "    </tr>\n",
       "    <tr>\n",
       "      <th>days_since_prior_order</th>\n",
       "      <th></th>\n",
       "      <th></th>\n",
       "      <th></th>\n",
       "      <th></th>\n",
       "      <th></th>\n",
       "      <th></th>\n",
       "      <th></th>\n",
       "      <th></th>\n",
       "      <th></th>\n",
       "      <th></th>\n",
       "      <th></th>\n",
       "      <th></th>\n",
       "      <th></th>\n",
       "      <th></th>\n",
       "      <th></th>\n",
       "      <th></th>\n",
       "      <th></th>\n",
       "      <th></th>\n",
       "      <th></th>\n",
       "      <th></th>\n",
       "      <th></th>\n",
       "    </tr>\n",
       "  </thead>\n",
       "  <tbody>\n",
       "    <tr>\n",
       "      <th>0.0</th>\n",
       "      <td>0</td>\n",
       "      <td>19338</td>\n",
       "      <td>19356</td>\n",
       "      <td>17067</td>\n",
       "      <td>15571</td>\n",
       "      <td>15199</td>\n",
       "      <td>13666</td>\n",
       "      <td>13196</td>\n",
       "      <td>11984</td>\n",
       "      <td>10888</td>\n",
       "      <td>...</td>\n",
       "      <td>1134</td>\n",
       "      <td>1120</td>\n",
       "      <td>986</td>\n",
       "      <td>906</td>\n",
       "      <td>997</td>\n",
       "      <td>1060</td>\n",
       "      <td>986</td>\n",
       "      <td>825</td>\n",
       "      <td>946</td>\n",
       "      <td>865</td>\n",
       "    </tr>\n",
       "    <tr>\n",
       "      <th>1.0</th>\n",
       "      <td>0</td>\n",
       "      <td>29915</td>\n",
       "      <td>28199</td>\n",
       "      <td>26700</td>\n",
       "      <td>25739</td>\n",
       "      <td>24179</td>\n",
       "      <td>23758</td>\n",
       "      <td>21878</td>\n",
       "      <td>20659</td>\n",
       "      <td>19864</td>\n",
       "      <td>...</td>\n",
       "      <td>2491</td>\n",
       "      <td>2616</td>\n",
       "      <td>2589</td>\n",
       "      <td>2402</td>\n",
       "      <td>2467</td>\n",
       "      <td>2449</td>\n",
       "      <td>2341</td>\n",
       "      <td>2333</td>\n",
       "      <td>2448</td>\n",
       "      <td>2187</td>\n",
       "    </tr>\n",
       "    <tr>\n",
       "      <th>2.0</th>\n",
       "      <td>0</td>\n",
       "      <td>44120</td>\n",
       "      <td>43837</td>\n",
       "      <td>41450</td>\n",
       "      <td>38519</td>\n",
       "      <td>38613</td>\n",
       "      <td>35917</td>\n",
       "      <td>35767</td>\n",
       "      <td>33585</td>\n",
       "      <td>31930</td>\n",
       "      <td>...</td>\n",
       "      <td>3396</td>\n",
       "      <td>3331</td>\n",
       "      <td>3091</td>\n",
       "      <td>3385</td>\n",
       "      <td>3180</td>\n",
       "      <td>2866</td>\n",
       "      <td>2840</td>\n",
       "      <td>2818</td>\n",
       "      <td>2912</td>\n",
       "      <td>2463</td>\n",
       "    </tr>\n",
       "    <tr>\n",
       "      <th>3.0</th>\n",
       "      <td>0</td>\n",
       "      <td>58387</td>\n",
       "      <td>59818</td>\n",
       "      <td>56798</td>\n",
       "      <td>54885</td>\n",
       "      <td>53235</td>\n",
       "      <td>49897</td>\n",
       "      <td>46486</td>\n",
       "      <td>45800</td>\n",
       "      <td>45205</td>\n",
       "      <td>...</td>\n",
       "      <td>3199</td>\n",
       "      <td>3085</td>\n",
       "      <td>2684</td>\n",
       "      <td>2887</td>\n",
       "      <td>2745</td>\n",
       "      <td>2452</td>\n",
       "      <td>2558</td>\n",
       "      <td>2361</td>\n",
       "      <td>2048</td>\n",
       "      <td>2343</td>\n",
       "    </tr>\n",
       "    <tr>\n",
       "      <th>4.0</th>\n",
       "      <td>0</td>\n",
       "      <td>72703</td>\n",
       "      <td>74506</td>\n",
       "      <td>69498</td>\n",
       "      <td>66668</td>\n",
       "      <td>62973</td>\n",
       "      <td>58705</td>\n",
       "      <td>58073</td>\n",
       "      <td>56195</td>\n",
       "      <td>54332</td>\n",
       "      <td>...</td>\n",
       "      <td>2200</td>\n",
       "      <td>2144</td>\n",
       "      <td>2401</td>\n",
       "      <td>1952</td>\n",
       "      <td>1723</td>\n",
       "      <td>1998</td>\n",
       "      <td>1793</td>\n",
       "      <td>1724</td>\n",
       "      <td>1637</td>\n",
       "      <td>1736</td>\n",
       "    </tr>\n",
       "    <tr>\n",
       "      <th>5.0</th>\n",
       "      <td>0</td>\n",
       "      <td>83919</td>\n",
       "      <td>86570</td>\n",
       "      <td>81811</td>\n",
       "      <td>76837</td>\n",
       "      <td>73416</td>\n",
       "      <td>69845</td>\n",
       "      <td>66362</td>\n",
       "      <td>61171</td>\n",
       "      <td>59780</td>\n",
       "      <td>...</td>\n",
       "      <td>1474</td>\n",
       "      <td>1577</td>\n",
       "      <td>1326</td>\n",
       "      <td>928</td>\n",
       "      <td>1139</td>\n",
       "      <td>1203</td>\n",
       "      <td>1096</td>\n",
       "      <td>915</td>\n",
       "      <td>859</td>\n",
       "      <td>885</td>\n",
       "    </tr>\n",
       "    <tr>\n",
       "      <th>6.0</th>\n",
       "      <td>0</td>\n",
       "      <td>114088</td>\n",
       "      <td>116437</td>\n",
       "      <td>108651</td>\n",
       "      <td>100729</td>\n",
       "      <td>95430</td>\n",
       "      <td>91292</td>\n",
       "      <td>84515</td>\n",
       "      <td>82463</td>\n",
       "      <td>74411</td>\n",
       "      <td>...</td>\n",
       "      <td>748</td>\n",
       "      <td>732</td>\n",
       "      <td>872</td>\n",
       "      <td>914</td>\n",
       "      <td>752</td>\n",
       "      <td>538</td>\n",
       "      <td>440</td>\n",
       "      <td>554</td>\n",
       "      <td>457</td>\n",
       "      <td>503</td>\n",
       "    </tr>\n",
       "    <tr>\n",
       "      <th>7.0</th>\n",
       "      <td>0</td>\n",
       "      <td>174711</td>\n",
       "      <td>171846</td>\n",
       "      <td>157862</td>\n",
       "      <td>148934</td>\n",
       "      <td>135945</td>\n",
       "      <td>130200</td>\n",
       "      <td>121539</td>\n",
       "      <td>113898</td>\n",
       "      <td>109142</td>\n",
       "      <td>...</td>\n",
       "      <td>587</td>\n",
       "      <td>493</td>\n",
       "      <td>484</td>\n",
       "      <td>424</td>\n",
       "      <td>602</td>\n",
       "      <td>398</td>\n",
       "      <td>413</td>\n",
       "      <td>374</td>\n",
       "      <td>398</td>\n",
       "      <td>322</td>\n",
       "    </tr>\n",
       "    <tr>\n",
       "      <th>8.0</th>\n",
       "      <td>0</td>\n",
       "      <td>105991</td>\n",
       "      <td>104222</td>\n",
       "      <td>96909</td>\n",
       "      <td>90198</td>\n",
       "      <td>82668</td>\n",
       "      <td>77472</td>\n",
       "      <td>74423</td>\n",
       "      <td>67211</td>\n",
       "      <td>64180</td>\n",
       "      <td>...</td>\n",
       "      <td>225</td>\n",
       "      <td>262</td>\n",
       "      <td>214</td>\n",
       "      <td>238</td>\n",
       "      <td>258</td>\n",
       "      <td>196</td>\n",
       "      <td>213</td>\n",
       "      <td>131</td>\n",
       "      <td>137</td>\n",
       "      <td>84</td>\n",
       "    </tr>\n",
       "    <tr>\n",
       "      <th>9.0</th>\n",
       "      <td>0</td>\n",
       "      <td>69790</td>\n",
       "      <td>71226</td>\n",
       "      <td>64511</td>\n",
       "      <td>61663</td>\n",
       "      <td>55715</td>\n",
       "      <td>51275</td>\n",
       "      <td>47737</td>\n",
       "      <td>45249</td>\n",
       "      <td>40987</td>\n",
       "      <td>...</td>\n",
       "      <td>155</td>\n",
       "      <td>84</td>\n",
       "      <td>95</td>\n",
       "      <td>101</td>\n",
       "      <td>132</td>\n",
       "      <td>91</td>\n",
       "      <td>67</td>\n",
       "      <td>99</td>\n",
       "      <td>66</td>\n",
       "      <td>65</td>\n",
       "    </tr>\n",
       "    <tr>\n",
       "      <th>10.0</th>\n",
       "      <td>0</td>\n",
       "      <td>58587</td>\n",
       "      <td>59157</td>\n",
       "      <td>54158</td>\n",
       "      <td>49044</td>\n",
       "      <td>46763</td>\n",
       "      <td>41415</td>\n",
       "      <td>38765</td>\n",
       "      <td>36353</td>\n",
       "      <td>33201</td>\n",
       "      <td>...</td>\n",
       "      <td>60</td>\n",
       "      <td>84</td>\n",
       "      <td>222</td>\n",
       "      <td>74</td>\n",
       "      <td>45</td>\n",
       "      <td>116</td>\n",
       "      <td>4</td>\n",
       "      <td>101</td>\n",
       "      <td>42</td>\n",
       "      <td>59</td>\n",
       "    </tr>\n",
       "    <tr>\n",
       "      <th>11.0</th>\n",
       "      <td>0</td>\n",
       "      <td>52760</td>\n",
       "      <td>52782</td>\n",
       "      <td>49466</td>\n",
       "      <td>43208</td>\n",
       "      <td>40144</td>\n",
       "      <td>37908</td>\n",
       "      <td>34828</td>\n",
       "      <td>31494</td>\n",
       "      <td>29043</td>\n",
       "      <td>...</td>\n",
       "      <td>57</td>\n",
       "      <td>72</td>\n",
       "      <td>175</td>\n",
       "      <td>55</td>\n",
       "      <td>68</td>\n",
       "      <td>126</td>\n",
       "      <td>63</td>\n",
       "      <td>64</td>\n",
       "      <td>1</td>\n",
       "      <td>12</td>\n",
       "    </tr>\n",
       "    <tr>\n",
       "      <th>12.0</th>\n",
       "      <td>0</td>\n",
       "      <td>51467</td>\n",
       "      <td>53635</td>\n",
       "      <td>48066</td>\n",
       "      <td>41885</td>\n",
       "      <td>40256</td>\n",
       "      <td>36713</td>\n",
       "      <td>33559</td>\n",
       "      <td>31644</td>\n",
       "      <td>28397</td>\n",
       "      <td>...</td>\n",
       "      <td>58</td>\n",
       "      <td>54</td>\n",
       "      <td>11</td>\n",
       "      <td>17</td>\n",
       "      <td>50</td>\n",
       "      <td>75</td>\n",
       "      <td>43</td>\n",
       "      <td>23</td>\n",
       "      <td>5</td>\n",
       "      <td>66</td>\n",
       "    </tr>\n",
       "    <tr>\n",
       "      <th>13.0</th>\n",
       "      <td>0</td>\n",
       "      <td>60488</td>\n",
       "      <td>62156</td>\n",
       "      <td>55215</td>\n",
       "      <td>51579</td>\n",
       "      <td>45259</td>\n",
       "      <td>42398</td>\n",
       "      <td>38911</td>\n",
       "      <td>36424</td>\n",
       "      <td>32657</td>\n",
       "      <td>...</td>\n",
       "      <td>69</td>\n",
       "      <td>93</td>\n",
       "      <td>93</td>\n",
       "      <td>80</td>\n",
       "      <td>73</td>\n",
       "      <td>24</td>\n",
       "      <td>27</td>\n",
       "      <td>56</td>\n",
       "      <td>53</td>\n",
       "      <td>68</td>\n",
       "    </tr>\n",
       "    <tr>\n",
       "      <th>14.0</th>\n",
       "      <td>0</td>\n",
       "      <td>77221</td>\n",
       "      <td>75269</td>\n",
       "      <td>70633</td>\n",
       "      <td>64037</td>\n",
       "      <td>57055</td>\n",
       "      <td>51991</td>\n",
       "      <td>46466</td>\n",
       "      <td>43395</td>\n",
       "      <td>39852</td>\n",
       "      <td>...</td>\n",
       "      <td>38</td>\n",
       "      <td>8</td>\n",
       "      <td>13</td>\n",
       "      <td>93</td>\n",
       "      <td>55</td>\n",
       "      <td>41</td>\n",
       "      <td>32</td>\n",
       "      <td>54</td>\n",
       "      <td>33</td>\n",
       "      <td>0</td>\n",
       "    </tr>\n",
       "    <tr>\n",
       "      <th>15.0</th>\n",
       "      <td>0</td>\n",
       "      <td>51318</td>\n",
       "      <td>50718</td>\n",
       "      <td>47840</td>\n",
       "      <td>41413</td>\n",
       "      <td>37184</td>\n",
       "      <td>33513</td>\n",
       "      <td>31788</td>\n",
       "      <td>27996</td>\n",
       "      <td>26347</td>\n",
       "      <td>...</td>\n",
       "      <td>44</td>\n",
       "      <td>14</td>\n",
       "      <td>22</td>\n",
       "      <td>25</td>\n",
       "      <td>6</td>\n",
       "      <td>23</td>\n",
       "      <td>20</td>\n",
       "      <td>17</td>\n",
       "      <td>7</td>\n",
       "      <td>17</td>\n",
       "    </tr>\n",
       "    <tr>\n",
       "      <th>16.0</th>\n",
       "      <td>0</td>\n",
       "      <td>36573</td>\n",
       "      <td>37516</td>\n",
       "      <td>32558</td>\n",
       "      <td>28932</td>\n",
       "      <td>26864</td>\n",
       "      <td>24028</td>\n",
       "      <td>21419</td>\n",
       "      <td>21440</td>\n",
       "      <td>19456</td>\n",
       "      <td>...</td>\n",
       "      <td>65</td>\n",
       "      <td>20</td>\n",
       "      <td>7</td>\n",
       "      <td>0</td>\n",
       "      <td>12</td>\n",
       "      <td>0</td>\n",
       "      <td>32</td>\n",
       "      <td>50</td>\n",
       "      <td>17</td>\n",
       "      <td>10</td>\n",
       "    </tr>\n",
       "    <tr>\n",
       "      <th>17.0</th>\n",
       "      <td>0</td>\n",
       "      <td>30224</td>\n",
       "      <td>30993</td>\n",
       "      <td>27874</td>\n",
       "      <td>24980</td>\n",
       "      <td>22790</td>\n",
       "      <td>19560</td>\n",
       "      <td>17644</td>\n",
       "      <td>16631</td>\n",
       "      <td>15216</td>\n",
       "      <td>...</td>\n",
       "      <td>14</td>\n",
       "      <td>0</td>\n",
       "      <td>15</td>\n",
       "      <td>0</td>\n",
       "      <td>16</td>\n",
       "      <td>7</td>\n",
       "      <td>0</td>\n",
       "      <td>9</td>\n",
       "      <td>0</td>\n",
       "      <td>5</td>\n",
       "    </tr>\n",
       "    <tr>\n",
       "      <th>18.0</th>\n",
       "      <td>0</td>\n",
       "      <td>29856</td>\n",
       "      <td>28902</td>\n",
       "      <td>25794</td>\n",
       "      <td>23489</td>\n",
       "      <td>20627</td>\n",
       "      <td>18243</td>\n",
       "      <td>16542</td>\n",
       "      <td>16041</td>\n",
       "      <td>14247</td>\n",
       "      <td>...</td>\n",
       "      <td>0</td>\n",
       "      <td>1</td>\n",
       "      <td>13</td>\n",
       "      <td>0</td>\n",
       "      <td>20</td>\n",
       "      <td>0</td>\n",
       "      <td>0</td>\n",
       "      <td>0</td>\n",
       "      <td>0</td>\n",
       "      <td>5</td>\n",
       "    </tr>\n",
       "    <tr>\n",
       "      <th>19.0</th>\n",
       "      <td>0</td>\n",
       "      <td>28353</td>\n",
       "      <td>29714</td>\n",
       "      <td>24959</td>\n",
       "      <td>22712</td>\n",
       "      <td>20193</td>\n",
       "      <td>18951</td>\n",
       "      <td>16841</td>\n",
       "      <td>14783</td>\n",
       "      <td>13381</td>\n",
       "      <td>...</td>\n",
       "      <td>0</td>\n",
       "      <td>6</td>\n",
       "      <td>0</td>\n",
       "      <td>0</td>\n",
       "      <td>0</td>\n",
       "      <td>0</td>\n",
       "      <td>21</td>\n",
       "      <td>14</td>\n",
       "      <td>0</td>\n",
       "      <td>0</td>\n",
       "    </tr>\n",
       "    <tr>\n",
       "      <th>20.0</th>\n",
       "      <td>0</td>\n",
       "      <td>33879</td>\n",
       "      <td>33178</td>\n",
       "      <td>30043</td>\n",
       "      <td>27427</td>\n",
       "      <td>24210</td>\n",
       "      <td>21764</td>\n",
       "      <td>18661</td>\n",
       "      <td>16151</td>\n",
       "      <td>15127</td>\n",
       "      <td>...</td>\n",
       "      <td>31</td>\n",
       "      <td>19</td>\n",
       "      <td>7</td>\n",
       "      <td>0</td>\n",
       "      <td>9</td>\n",
       "      <td>0</td>\n",
       "      <td>0</td>\n",
       "      <td>0</td>\n",
       "      <td>0</td>\n",
       "      <td>0</td>\n",
       "    </tr>\n",
       "    <tr>\n",
       "      <th>21.0</th>\n",
       "      <td>0</td>\n",
       "      <td>41578</td>\n",
       "      <td>42109</td>\n",
       "      <td>35580</td>\n",
       "      <td>30536</td>\n",
       "      <td>29837</td>\n",
       "      <td>24640</td>\n",
       "      <td>22407</td>\n",
       "      <td>19371</td>\n",
       "      <td>18298</td>\n",
       "      <td>...</td>\n",
       "      <td>19</td>\n",
       "      <td>0</td>\n",
       "      <td>32</td>\n",
       "      <td>12</td>\n",
       "      <td>0</td>\n",
       "      <td>19</td>\n",
       "      <td>0</td>\n",
       "      <td>0</td>\n",
       "      <td>12</td>\n",
       "      <td>0</td>\n",
       "    </tr>\n",
       "    <tr>\n",
       "      <th>22.0</th>\n",
       "      <td>0</td>\n",
       "      <td>28468</td>\n",
       "      <td>28071</td>\n",
       "      <td>25076</td>\n",
       "      <td>22256</td>\n",
       "      <td>19299</td>\n",
       "      <td>17594</td>\n",
       "      <td>16064</td>\n",
       "      <td>14541</td>\n",
       "      <td>13168</td>\n",
       "      <td>...</td>\n",
       "      <td>0</td>\n",
       "      <td>9</td>\n",
       "      <td>0</td>\n",
       "      <td>0</td>\n",
       "      <td>0</td>\n",
       "      <td>0</td>\n",
       "      <td>0</td>\n",
       "      <td>0</td>\n",
       "      <td>0</td>\n",
       "      <td>0</td>\n",
       "    </tr>\n",
       "    <tr>\n",
       "      <th>23.0</th>\n",
       "      <td>0</td>\n",
       "      <td>21806</td>\n",
       "      <td>22783</td>\n",
       "      <td>18769</td>\n",
       "      <td>16163</td>\n",
       "      <td>14713</td>\n",
       "      <td>12943</td>\n",
       "      <td>10753</td>\n",
       "      <td>10611</td>\n",
       "      <td>8091</td>\n",
       "      <td>...</td>\n",
       "      <td>13</td>\n",
       "      <td>0</td>\n",
       "      <td>0</td>\n",
       "      <td>0</td>\n",
       "      <td>0</td>\n",
       "      <td>9</td>\n",
       "      <td>0</td>\n",
       "      <td>0</td>\n",
       "      <td>0</td>\n",
       "      <td>0</td>\n",
       "    </tr>\n",
       "    <tr>\n",
       "      <th>24.0</th>\n",
       "      <td>0</td>\n",
       "      <td>18359</td>\n",
       "      <td>18421</td>\n",
       "      <td>16004</td>\n",
       "      <td>14783</td>\n",
       "      <td>12863</td>\n",
       "      <td>11788</td>\n",
       "      <td>10252</td>\n",
       "      <td>8921</td>\n",
       "      <td>7814</td>\n",
       "      <td>...</td>\n",
       "      <td>0</td>\n",
       "      <td>0</td>\n",
       "      <td>0</td>\n",
       "      <td>0</td>\n",
       "      <td>0</td>\n",
       "      <td>0</td>\n",
       "      <td>0</td>\n",
       "      <td>0</td>\n",
       "      <td>0</td>\n",
       "      <td>0</td>\n",
       "    </tr>\n",
       "    <tr>\n",
       "      <th>25.0</th>\n",
       "      <td>0</td>\n",
       "      <td>17661</td>\n",
       "      <td>18423</td>\n",
       "      <td>15393</td>\n",
       "      <td>13516</td>\n",
       "      <td>12056</td>\n",
       "      <td>10141</td>\n",
       "      <td>8668</td>\n",
       "      <td>8057</td>\n",
       "      <td>7284</td>\n",
       "      <td>...</td>\n",
       "      <td>0</td>\n",
       "      <td>0</td>\n",
       "      <td>0</td>\n",
       "      <td>0</td>\n",
       "      <td>0</td>\n",
       "      <td>0</td>\n",
       "      <td>0</td>\n",
       "      <td>0</td>\n",
       "      <td>0</td>\n",
       "      <td>0</td>\n",
       "    </tr>\n",
       "    <tr>\n",
       "      <th>26.0</th>\n",
       "      <td>0</td>\n",
       "      <td>17506</td>\n",
       "      <td>18356</td>\n",
       "      <td>15187</td>\n",
       "      <td>14156</td>\n",
       "      <td>12277</td>\n",
       "      <td>11183</td>\n",
       "      <td>9437</td>\n",
       "      <td>8295</td>\n",
       "      <td>7342</td>\n",
       "      <td>...</td>\n",
       "      <td>0</td>\n",
       "      <td>0</td>\n",
       "      <td>0</td>\n",
       "      <td>0</td>\n",
       "      <td>0</td>\n",
       "      <td>9</td>\n",
       "      <td>0</td>\n",
       "      <td>0</td>\n",
       "      <td>0</td>\n",
       "      <td>0</td>\n",
       "    </tr>\n",
       "    <tr>\n",
       "      <th>27.0</th>\n",
       "      <td>0</td>\n",
       "      <td>20342</td>\n",
       "      <td>21323</td>\n",
       "      <td>19204</td>\n",
       "      <td>17507</td>\n",
       "      <td>13753</td>\n",
       "      <td>11837</td>\n",
       "      <td>11006</td>\n",
       "      <td>9621</td>\n",
       "      <td>8066</td>\n",
       "      <td>...</td>\n",
       "      <td>12</td>\n",
       "      <td>0</td>\n",
       "      <td>0</td>\n",
       "      <td>0</td>\n",
       "      <td>0</td>\n",
       "      <td>0</td>\n",
       "      <td>0</td>\n",
       "      <td>0</td>\n",
       "      <td>0</td>\n",
       "      <td>0</td>\n",
       "    </tr>\n",
       "    <tr>\n",
       "      <th>28.0</th>\n",
       "      <td>0</td>\n",
       "      <td>26305</td>\n",
       "      <td>27237</td>\n",
       "      <td>24102</td>\n",
       "      <td>19545</td>\n",
       "      <td>17243</td>\n",
       "      <td>15702</td>\n",
       "      <td>13549</td>\n",
       "      <td>11970</td>\n",
       "      <td>10254</td>\n",
       "      <td>...</td>\n",
       "      <td>0</td>\n",
       "      <td>0</td>\n",
       "      <td>0</td>\n",
       "      <td>0</td>\n",
       "      <td>0</td>\n",
       "      <td>0</td>\n",
       "      <td>6</td>\n",
       "      <td>0</td>\n",
       "      <td>0</td>\n",
       "      <td>0</td>\n",
       "    </tr>\n",
       "    <tr>\n",
       "      <th>29.0</th>\n",
       "      <td>0</td>\n",
       "      <td>18976</td>\n",
       "      <td>19021</td>\n",
       "      <td>16387</td>\n",
       "      <td>14053</td>\n",
       "      <td>12621</td>\n",
       "      <td>10625</td>\n",
       "      <td>9629</td>\n",
       "      <td>8395</td>\n",
       "      <td>7095</td>\n",
       "      <td>...</td>\n",
       "      <td>0</td>\n",
       "      <td>4</td>\n",
       "      <td>0</td>\n",
       "      <td>0</td>\n",
       "      <td>0</td>\n",
       "      <td>0</td>\n",
       "      <td>0</td>\n",
       "      <td>0</td>\n",
       "      <td>0</td>\n",
       "      <td>0</td>\n",
       "    </tr>\n",
       "    <tr>\n",
       "      <th>30.0</th>\n",
       "      <td>0</td>\n",
       "      <td>439759</td>\n",
       "      <td>431047</td>\n",
       "      <td>346097</td>\n",
       "      <td>278461</td>\n",
       "      <td>228957</td>\n",
       "      <td>186156</td>\n",
       "      <td>154643</td>\n",
       "      <td>127737</td>\n",
       "      <td>107150</td>\n",
       "      <td>...</td>\n",
       "      <td>6</td>\n",
       "      <td>11</td>\n",
       "      <td>3</td>\n",
       "      <td>0</td>\n",
       "      <td>0</td>\n",
       "      <td>0</td>\n",
       "      <td>0</td>\n",
       "      <td>0</td>\n",
       "      <td>0</td>\n",
       "      <td>13</td>\n",
       "    </tr>\n",
       "  </tbody>\n",
       "</table>\n",
       "<p>31 rows × 99 columns</p>\n",
       "</div>"
      ],
      "text/plain": [
       "order_number            1.0     2.0     3.0     4.0     5.0     6.0     7.0   \\\n",
       "days_since_prior_order                                                         \n",
       "0.0                        0   19338   19356   17067   15571   15199   13666   \n",
       "1.0                        0   29915   28199   26700   25739   24179   23758   \n",
       "2.0                        0   44120   43837   41450   38519   38613   35917   \n",
       "3.0                        0   58387   59818   56798   54885   53235   49897   \n",
       "4.0                        0   72703   74506   69498   66668   62973   58705   \n",
       "5.0                        0   83919   86570   81811   76837   73416   69845   \n",
       "6.0                        0  114088  116437  108651  100729   95430   91292   \n",
       "7.0                        0  174711  171846  157862  148934  135945  130200   \n",
       "8.0                        0  105991  104222   96909   90198   82668   77472   \n",
       "9.0                        0   69790   71226   64511   61663   55715   51275   \n",
       "10.0                       0   58587   59157   54158   49044   46763   41415   \n",
       "11.0                       0   52760   52782   49466   43208   40144   37908   \n",
       "12.0                       0   51467   53635   48066   41885   40256   36713   \n",
       "13.0                       0   60488   62156   55215   51579   45259   42398   \n",
       "14.0                       0   77221   75269   70633   64037   57055   51991   \n",
       "15.0                       0   51318   50718   47840   41413   37184   33513   \n",
       "16.0                       0   36573   37516   32558   28932   26864   24028   \n",
       "17.0                       0   30224   30993   27874   24980   22790   19560   \n",
       "18.0                       0   29856   28902   25794   23489   20627   18243   \n",
       "19.0                       0   28353   29714   24959   22712   20193   18951   \n",
       "20.0                       0   33879   33178   30043   27427   24210   21764   \n",
       "21.0                       0   41578   42109   35580   30536   29837   24640   \n",
       "22.0                       0   28468   28071   25076   22256   19299   17594   \n",
       "23.0                       0   21806   22783   18769   16163   14713   12943   \n",
       "24.0                       0   18359   18421   16004   14783   12863   11788   \n",
       "25.0                       0   17661   18423   15393   13516   12056   10141   \n",
       "26.0                       0   17506   18356   15187   14156   12277   11183   \n",
       "27.0                       0   20342   21323   19204   17507   13753   11837   \n",
       "28.0                       0   26305   27237   24102   19545   17243   15702   \n",
       "29.0                       0   18976   19021   16387   14053   12621   10625   \n",
       "30.0                       0  439759  431047  346097  278461  228957  186156   \n",
       "\n",
       "order_number              8.0     9.0     10.0  ...  90.0  91.0  92.0  93.0  \\\n",
       "days_since_prior_order                          ...                           \n",
       "0.0                      13196   11984   10888  ...  1134  1120   986   906   \n",
       "1.0                      21878   20659   19864  ...  2491  2616  2589  2402   \n",
       "2.0                      35767   33585   31930  ...  3396  3331  3091  3385   \n",
       "3.0                      46486   45800   45205  ...  3199  3085  2684  2887   \n",
       "4.0                      58073   56195   54332  ...  2200  2144  2401  1952   \n",
       "5.0                      66362   61171   59780  ...  1474  1577  1326   928   \n",
       "6.0                      84515   82463   74411  ...   748   732   872   914   \n",
       "7.0                     121539  113898  109142  ...   587   493   484   424   \n",
       "8.0                      74423   67211   64180  ...   225   262   214   238   \n",
       "9.0                      47737   45249   40987  ...   155    84    95   101   \n",
       "10.0                     38765   36353   33201  ...    60    84   222    74   \n",
       "11.0                     34828   31494   29043  ...    57    72   175    55   \n",
       "12.0                     33559   31644   28397  ...    58    54    11    17   \n",
       "13.0                     38911   36424   32657  ...    69    93    93    80   \n",
       "14.0                     46466   43395   39852  ...    38     8    13    93   \n",
       "15.0                     31788   27996   26347  ...    44    14    22    25   \n",
       "16.0                     21419   21440   19456  ...    65    20     7     0   \n",
       "17.0                     17644   16631   15216  ...    14     0    15     0   \n",
       "18.0                     16542   16041   14247  ...     0     1    13     0   \n",
       "19.0                     16841   14783   13381  ...     0     6     0     0   \n",
       "20.0                     18661   16151   15127  ...    31    19     7     0   \n",
       "21.0                     22407   19371   18298  ...    19     0    32    12   \n",
       "22.0                     16064   14541   13168  ...     0     9     0     0   \n",
       "23.0                     10753   10611    8091  ...    13     0     0     0   \n",
       "24.0                     10252    8921    7814  ...     0     0     0     0   \n",
       "25.0                      8668    8057    7284  ...     0     0     0     0   \n",
       "26.0                      9437    8295    7342  ...     0     0     0     0   \n",
       "27.0                     11006    9621    8066  ...    12     0     0     0   \n",
       "28.0                     13549   11970   10254  ...     0     0     0     0   \n",
       "29.0                      9629    8395    7095  ...     0     4     0     0   \n",
       "30.0                    154643  127737  107150  ...     6    11     3     0   \n",
       "\n",
       "order_number            94.0  95.0  96.0  97.0  98.0  99.0  \n",
       "days_since_prior_order                                      \n",
       "0.0                      997  1060   986   825   946   865  \n",
       "1.0                     2467  2449  2341  2333  2448  2187  \n",
       "2.0                     3180  2866  2840  2818  2912  2463  \n",
       "3.0                     2745  2452  2558  2361  2048  2343  \n",
       "4.0                     1723  1998  1793  1724  1637  1736  \n",
       "5.0                     1139  1203  1096   915   859   885  \n",
       "6.0                      752   538   440   554   457   503  \n",
       "7.0                      602   398   413   374   398   322  \n",
       "8.0                      258   196   213   131   137    84  \n",
       "9.0                      132    91    67    99    66    65  \n",
       "10.0                      45   116     4   101    42    59  \n",
       "11.0                      68   126    63    64     1    12  \n",
       "12.0                      50    75    43    23     5    66  \n",
       "13.0                      73    24    27    56    53    68  \n",
       "14.0                      55    41    32    54    33     0  \n",
       "15.0                       6    23    20    17     7    17  \n",
       "16.0                      12     0    32    50    17    10  \n",
       "17.0                      16     7     0     9     0     5  \n",
       "18.0                      20     0     0     0     0     5  \n",
       "19.0                       0     0    21    14     0     0  \n",
       "20.0                       9     0     0     0     0     0  \n",
       "21.0                       0    19     0     0    12     0  \n",
       "22.0                       0     0     0     0     0     0  \n",
       "23.0                       0     9     0     0     0     0  \n",
       "24.0                       0     0     0     0     0     0  \n",
       "25.0                       0     0     0     0     0     0  \n",
       "26.0                       0     9     0     0     0     0  \n",
       "27.0                       0     0     0     0     0     0  \n",
       "28.0                       0     0     6     0     0     0  \n",
       "29.0                       0     0     0     0     0     0  \n",
       "30.0                       0     0     0     0     0    13  \n",
       "\n",
       "[31 rows x 99 columns]"
      ]
     },
     "execution_count": 7,
     "metadata": {},
     "output_type": "execute_result"
    }
   ],
   "source": [
    "crosstab"
   ]
  },
  {
   "cell_type": "markdown",
   "id": "f819e406",
   "metadata": {},
   "source": [
    "# <center>Task 4.10<center>"
   ]
  },
  {
   "cell_type": "code",
   "execution_count": 8,
   "id": "8f568e3b",
   "metadata": {},
   "outputs": [],
   "source": [
    "#Dropping first, last, & merge columns \n",
    "df = df.drop(columns = ['first', 'last','_merge'])"
   ]
  },
  {
   "cell_type": "code",
   "execution_count": 9,
   "id": "c46640c9",
   "metadata": {
    "scrolled": true
   },
   "outputs": [
    {
     "data": {
      "text/html": [
       "<div>\n",
       "<style scoped>\n",
       "    .dataframe tbody tr th:only-of-type {\n",
       "        vertical-align: middle;\n",
       "    }\n",
       "\n",
       "    .dataframe tbody tr th {\n",
       "        vertical-align: top;\n",
       "    }\n",
       "\n",
       "    .dataframe thead th {\n",
       "        text-align: right;\n",
       "    }\n",
       "</style>\n",
       "<table border=\"1\" class=\"dataframe\">\n",
       "  <thead>\n",
       "    <tr style=\"text-align: right;\">\n",
       "      <th></th>\n",
       "      <th>user_id</th>\n",
       "      <th>gender</th>\n",
       "      <th>state</th>\n",
       "      <th>age</th>\n",
       "      <th>date_joined</th>\n",
       "      <th>no_of_dependents</th>\n",
       "      <th>marital_status</th>\n",
       "      <th>income</th>\n",
       "      <th>order_id</th>\n",
       "      <th>order_number</th>\n",
       "      <th>...</th>\n",
       "      <th>price_range_loc</th>\n",
       "      <th>busiest_day</th>\n",
       "      <th>busiest_period_of_day</th>\n",
       "      <th>max_order</th>\n",
       "      <th>loyalty_flag</th>\n",
       "      <th>mean_order</th>\n",
       "      <th>spending_flag</th>\n",
       "      <th>average_order</th>\n",
       "      <th>user_frequency</th>\n",
       "      <th>frequency_flag</th>\n",
       "    </tr>\n",
       "  </thead>\n",
       "  <tbody>\n",
       "    <tr>\n",
       "      <th>0</th>\n",
       "      <td>26711.0</td>\n",
       "      <td>Female</td>\n",
       "      <td>Missouri</td>\n",
       "      <td>48.0</td>\n",
       "      <td>1/1/2017</td>\n",
       "      <td>3.0</td>\n",
       "      <td>married</td>\n",
       "      <td>165665.0</td>\n",
       "      <td>2543867.0</td>\n",
       "      <td>5.0</td>\n",
       "      <td>...</td>\n",
       "      <td>Mid-range product</td>\n",
       "      <td>Busiest days</td>\n",
       "      <td>Most orders</td>\n",
       "      <td>8.0</td>\n",
       "      <td>New customer</td>\n",
       "      <td>7.988889</td>\n",
       "      <td>Low spender</td>\n",
       "      <td>7.988889</td>\n",
       "      <td>19.0</td>\n",
       "      <td>Regular customer</td>\n",
       "    </tr>\n",
       "  </tbody>\n",
       "</table>\n",
       "<p>1 rows × 31 columns</p>\n",
       "</div>"
      ],
      "text/plain": [
       "   user_id  gender     state   age date_joined  no_of_dependents  \\\n",
       "0  26711.0  Female  Missouri  48.0    1/1/2017               3.0   \n",
       "\n",
       "  marital_status    income   order_id  order_number  ...    price_range_loc  \\\n",
       "0        married  165665.0  2543867.0           5.0  ...  Mid-range product   \n",
       "\n",
       "    busiest_day  busiest_period_of_day  max_order  loyalty_flag  mean_order  \\\n",
       "0  Busiest days            Most orders        8.0  New customer    7.988889   \n",
       "\n",
       "   spending_flag average_order  user_frequency    frequency_flag  \n",
       "0    Low spender      7.988889            19.0  Regular customer  \n",
       "\n",
       "[1 rows x 31 columns]"
      ]
     },
     "execution_count": 9,
     "metadata": {},
     "output_type": "execute_result"
    }
   ],
   "source": [
    "df.head(1)"
   ]
  },
  {
   "cell_type": "markdown",
   "id": "7240eb8d",
   "metadata": {},
   "source": [
    "### Region Flag"
   ]
  },
  {
   "cell_type": "code",
   "execution_count": 10,
   "id": "a78bd20d",
   "metadata": {},
   "outputs": [],
   "source": [
    "#Creating region groups\n",
    "Northeast = ['Maine', 'New Hampshire', 'Vermont', 'Massachusetts', 'Rhode Island', 'Connecticut', 'New York', 'Pennsylvania', 'New Jersey']\n",
    "Midwest = ['Wisconsin', 'Michigan', 'Illinois', 'Indiana', 'Ohio', 'North Dakota', 'South Dakota', 'Nebraska', 'Kansas', 'Minnesota', 'Iowa', 'Missouri']\n",
    "South = ['Delaware', 'Maryland', 'District of Columbia', 'Virginia', 'West Virginia', 'North Carolina', 'South Carolina', 'Georgia', 'Florida', 'Kentucky', 'Tennessee', 'Mississippi', 'Alabama', 'Oklahoma', 'Texas', 'Arkansas', 'Louisiana']\n",
    "West = ['Idaho', 'Montana', 'Wyoming', 'Nevada', 'Utah', 'Colorado', 'Arizona', 'New Mexico', 'Alaska', 'Washington', 'Oregon', 'California', 'Hawaii']"
   ]
  },
  {
   "cell_type": "code",
   "execution_count": 11,
   "id": "1188adb0",
   "metadata": {},
   "outputs": [],
   "source": [
    "#Creating region flag\n",
    "df.loc[df['state'].isin(Northeast), 'region'] = 'Northeast'\n",
    "df.loc[df['state'].isin(Midwest), 'region'] = 'Midwest'\n",
    "df.loc[df['state'].isin(South), 'region'] = 'South'\n",
    "df.loc[df['state'].isin(West), 'region'] = 'West'"
   ]
  },
  {
   "cell_type": "code",
   "execution_count": 12,
   "id": "b701b800",
   "metadata": {
    "scrolled": true
   },
   "outputs": [
    {
     "data": {
      "text/html": [
       "<div>\n",
       "<style scoped>\n",
       "    .dataframe tbody tr th:only-of-type {\n",
       "        vertical-align: middle;\n",
       "    }\n",
       "\n",
       "    .dataframe tbody tr th {\n",
       "        vertical-align: top;\n",
       "    }\n",
       "\n",
       "    .dataframe thead th {\n",
       "        text-align: right;\n",
       "    }\n",
       "</style>\n",
       "<table border=\"1\" class=\"dataframe\">\n",
       "  <thead>\n",
       "    <tr style=\"text-align: right;\">\n",
       "      <th></th>\n",
       "      <th>user_id</th>\n",
       "      <th>region</th>\n",
       "      <th>state</th>\n",
       "    </tr>\n",
       "  </thead>\n",
       "  <tbody>\n",
       "    <tr>\n",
       "      <th>0</th>\n",
       "      <td>26711.0</td>\n",
       "      <td>Midwest</td>\n",
       "      <td>Missouri</td>\n",
       "    </tr>\n",
       "    <tr>\n",
       "      <th>1</th>\n",
       "      <td>26711.0</td>\n",
       "      <td>Midwest</td>\n",
       "      <td>Missouri</td>\n",
       "    </tr>\n",
       "    <tr>\n",
       "      <th>2</th>\n",
       "      <td>26711.0</td>\n",
       "      <td>Midwest</td>\n",
       "      <td>Missouri</td>\n",
       "    </tr>\n",
       "    <tr>\n",
       "      <th>3</th>\n",
       "      <td>26711.0</td>\n",
       "      <td>Midwest</td>\n",
       "      <td>Missouri</td>\n",
       "    </tr>\n",
       "    <tr>\n",
       "      <th>4</th>\n",
       "      <td>26711.0</td>\n",
       "      <td>Midwest</td>\n",
       "      <td>Missouri</td>\n",
       "    </tr>\n",
       "  </tbody>\n",
       "</table>\n",
       "</div>"
      ],
      "text/plain": [
       "   user_id   region     state\n",
       "0  26711.0  Midwest  Missouri\n",
       "1  26711.0  Midwest  Missouri\n",
       "2  26711.0  Midwest  Missouri\n",
       "3  26711.0  Midwest  Missouri\n",
       "4  26711.0  Midwest  Missouri"
      ]
     },
     "execution_count": 12,
     "metadata": {},
     "output_type": "execute_result"
    }
   ],
   "source": [
    "df[['user_id', 'region', 'state']].head(5)"
   ]
  },
  {
   "cell_type": "code",
   "execution_count": 13,
   "id": "a55653a1",
   "metadata": {},
   "outputs": [
    {
     "data": {
      "text/plain": [
       "South        10198982\n",
       "West          7831810\n",
       "Midwest       7176924\n",
       "Northeast     5422025\n",
       "Name: region, dtype: int64"
      ]
     },
     "execution_count": 13,
     "metadata": {},
     "output_type": "execute_result"
    }
   ],
   "source": [
    "df['region'].value_counts(dropna = False)"
   ]
  },
  {
   "cell_type": "code",
   "execution_count": 14,
   "id": "5bfa4a46",
   "metadata": {},
   "outputs": [],
   "source": [
    "#Comparing spending across regions\n",
    "region_crosstab = pd.crosstab(df['region'], df['spending_flag'], dropna = False)"
   ]
  },
  {
   "cell_type": "code",
   "execution_count": 15,
   "id": "51ea7429",
   "metadata": {},
   "outputs": [
    {
     "data": {
      "text/html": [
       "<div>\n",
       "<style scoped>\n",
       "    .dataframe tbody tr th:only-of-type {\n",
       "        vertical-align: middle;\n",
       "    }\n",
       "\n",
       "    .dataframe tbody tr th {\n",
       "        vertical-align: top;\n",
       "    }\n",
       "\n",
       "    .dataframe thead th {\n",
       "        text-align: right;\n",
       "    }\n",
       "</style>\n",
       "<table border=\"1\" class=\"dataframe\">\n",
       "  <thead>\n",
       "    <tr style=\"text-align: right;\">\n",
       "      <th>spending_flag</th>\n",
       "      <th>High spender</th>\n",
       "      <th>Low spender</th>\n",
       "    </tr>\n",
       "    <tr>\n",
       "      <th>region</th>\n",
       "      <th></th>\n",
       "      <th></th>\n",
       "    </tr>\n",
       "  </thead>\n",
       "  <tbody>\n",
       "    <tr>\n",
       "      <th>Midwest</th>\n",
       "      <td>149817</td>\n",
       "      <td>7027107</td>\n",
       "    </tr>\n",
       "    <tr>\n",
       "      <th>Northeast</th>\n",
       "      <td>101420</td>\n",
       "      <td>5320605</td>\n",
       "    </tr>\n",
       "    <tr>\n",
       "      <th>South</th>\n",
       "      <td>196523</td>\n",
       "      <td>10002459</td>\n",
       "    </tr>\n",
       "    <tr>\n",
       "      <th>West</th>\n",
       "      <td>147803</td>\n",
       "      <td>7684007</td>\n",
       "    </tr>\n",
       "  </tbody>\n",
       "</table>\n",
       "</div>"
      ],
      "text/plain": [
       "spending_flag  High spender  Low spender\n",
       "region                                  \n",
       "Midwest              149817      7027107\n",
       "Northeast            101420      5320605\n",
       "South                196523     10002459\n",
       "West                 147803      7684007"
      ]
     },
     "execution_count": 15,
     "metadata": {},
     "output_type": "execute_result"
    }
   ],
   "source": [
    "region_crosstab"
   ]
  },
  {
   "cell_type": "code",
   "execution_count": 16,
   "id": "8d58a5c9",
   "metadata": {},
   "outputs": [],
   "source": [
    "#Copy to Excel\n",
    "region_crosstab.to_clipboard()"
   ]
  },
  {
   "cell_type": "markdown",
   "id": "126e9042",
   "metadata": {},
   "source": [
    "### Exclusion Flag"
   ]
  },
  {
   "cell_type": "code",
   "execution_count": 51,
   "id": "70c6f27e",
   "metadata": {},
   "outputs": [],
   "source": [
    "#Excluding orders less than 5\n",
    "df_low_activity = df[df['max_order']<5]"
   ]
  },
  {
   "cell_type": "code",
   "execution_count": 52,
   "id": "561899d8",
   "metadata": {},
   "outputs": [
    {
     "data": {
      "text/plain": [
       "(30629741, 35)"
      ]
     },
     "execution_count": 52,
     "metadata": {},
     "output_type": "execute_result"
    }
   ],
   "source": [
    "df.shape"
   ]
  },
  {
   "cell_type": "code",
   "execution_count": 53,
   "id": "238ed83d",
   "metadata": {},
   "outputs": [
    {
     "data": {
      "text/plain": [
       "(1358803, 35)"
      ]
     },
     "execution_count": 53,
     "metadata": {},
     "output_type": "execute_result"
    }
   ],
   "source": [
    "df_low_activity.shape"
   ]
  },
  {
   "cell_type": "code",
   "execution_count": 54,
   "id": "667b7e0a",
   "metadata": {},
   "outputs": [],
   "source": [
    "df_low_activity.to_pickle(os.path.join(path, 'Data', 'customers_low_activity.pkl'))"
   ]
  },
  {
   "cell_type": "markdown",
   "id": "d06f1066",
   "metadata": {},
   "source": [
    "### Age & Income Groups"
   ]
  },
  {
   "cell_type": "code",
   "execution_count": 55,
   "id": "ef21b9ee",
   "metadata": {},
   "outputs": [],
   "source": [
    "#Age Group Flags"
   ]
  },
  {
   "cell_type": "code",
   "execution_count": 56,
   "id": "f62be3eb",
   "metadata": {},
   "outputs": [
    {
     "data": {
      "text/plain": [
       "count    3.062974e+07\n",
       "mean     4.947348e+01\n",
       "std      1.847859e+01\n",
       "min      1.800000e+01\n",
       "25%      3.300000e+01\n",
       "50%      4.900000e+01\n",
       "75%      6.500000e+01\n",
       "max      8.100000e+01\n",
       "Name: age, dtype: float64"
      ]
     },
     "execution_count": 56,
     "metadata": {},
     "output_type": "execute_result"
    }
   ],
   "source": [
    "df['age'].describe()"
   ]
  },
  {
   "cell_type": "code",
   "execution_count": 57,
   "id": "0d9ef067",
   "metadata": {},
   "outputs": [],
   "source": [
    "df.loc[df['age']>= 65, 'age_group'] = 'Senior'"
   ]
  },
  {
   "cell_type": "code",
   "execution_count": 58,
   "id": "c5705ffc",
   "metadata": {},
   "outputs": [],
   "source": [
    "df.loc[(df['age'] < 65) & (df['age'] >= 35), 'age_group'] = 'Middle Age'"
   ]
  },
  {
   "cell_type": "code",
   "execution_count": 59,
   "id": "16c26eb1",
   "metadata": {},
   "outputs": [],
   "source": [
    "df.loc[(df['age'] < 35) & (df['age'] >= 20), 'age_group'] = 'Young Adult'"
   ]
  },
  {
   "cell_type": "code",
   "execution_count": 60,
   "id": "6be2e9f3",
   "metadata": {},
   "outputs": [],
   "source": [
    "df.loc[(df['age'] < 20) & (df['age'] >= 10), 'age_group'] = 'Teenager'"
   ]
  },
  {
   "cell_type": "code",
   "execution_count": 61,
   "id": "4295e3d5",
   "metadata": {},
   "outputs": [],
   "source": [
    "df.loc[(df['age'] < 10) & (df['age'] >= 0), 'age_group'] = 'Child'"
   ]
  },
  {
   "cell_type": "code",
   "execution_count": 62,
   "id": "b4bdc53a",
   "metadata": {
    "scrolled": true
   },
   "outputs": [
    {
     "data": {
      "text/plain": [
       "Middle Age     14392922\n",
       "Senior          8097571\n",
       "Young Adult     7174408\n",
       "Teenager         964840\n",
       "Name: age_group, dtype: int64"
      ]
     },
     "execution_count": 62,
     "metadata": {},
     "output_type": "execute_result"
    }
   ],
   "source": [
    "df['age_group'].value_counts(dropna = False)"
   ]
  },
  {
   "cell_type": "code",
   "execution_count": 63,
   "id": "e7d5351a",
   "metadata": {},
   "outputs": [],
   "source": [
    "#Income flags"
   ]
  },
  {
   "cell_type": "code",
   "execution_count": 64,
   "id": "1c70a0f9",
   "metadata": {
    "scrolled": true
   },
   "outputs": [
    {
     "data": {
      "text/plain": [
       "count    3.062974e+07\n",
       "mean     9.945980e+04\n",
       "std      4.306626e+04\n",
       "min      2.590300e+04\n",
       "25%      6.706600e+04\n",
       "50%      9.661200e+04\n",
       "75%      1.279340e+05\n",
       "max      5.939010e+05\n",
       "Name: income, dtype: float64"
      ]
     },
     "execution_count": 64,
     "metadata": {},
     "output_type": "execute_result"
    }
   ],
   "source": [
    "df['income'].describe()"
   ]
  },
  {
   "cell_type": "code",
   "execution_count": 65,
   "id": "41354543",
   "metadata": {},
   "outputs": [],
   "source": [
    "df.loc[df['income'] <70000, 'income_bracket'] = 'Lower income'"
   ]
  },
  {
   "cell_type": "code",
   "execution_count": 66,
   "id": "344ee914",
   "metadata": {},
   "outputs": [],
   "source": [
    "df.loc[(df['income'] >=70000) & (df['income'] < 110000), 'income_bracket'] = 'Middle income'"
   ]
  },
  {
   "cell_type": "code",
   "execution_count": 67,
   "id": "e42d8f81",
   "metadata": {},
   "outputs": [],
   "source": [
    "df.loc[df['income'] >= 110000, 'income_bracket'] = 'Higher income'"
   ]
  },
  {
   "cell_type": "code",
   "execution_count": 68,
   "id": "18f3a51a",
   "metadata": {},
   "outputs": [
    {
     "data": {
      "text/plain": [
       "Higher income    11409932\n",
       "Middle income    10728098\n",
       "Lower income      8491711\n",
       "Name: income_bracket, dtype: int64"
      ]
     },
     "execution_count": 68,
     "metadata": {},
     "output_type": "execute_result"
    }
   ],
   "source": [
    "df['income_bracket'].value_counts(dropna = False)"
   ]
  },
  {
   "cell_type": "code",
   "execution_count": 69,
   "id": "7857e914",
   "metadata": {},
   "outputs": [],
   "source": [
    "#Dependant flag\n",
    "df.loc[df['no_of_dependents'] == 0, 'dependants'] = 'No Dependants'\n",
    "df.loc[df['no_of_dependents'] >= 1, 'dependants'] = 'Has Dependants'"
   ]
  },
  {
   "cell_type": "code",
   "execution_count": 70,
   "id": "445423bd",
   "metadata": {
    "scrolled": true
   },
   "outputs": [
    {
     "data": {
      "text/plain": [
       "Has Dependants    22980043\n",
       "No Dependants      7649698\n",
       "Name: dependants, dtype: int64"
      ]
     },
     "execution_count": 70,
     "metadata": {},
     "output_type": "execute_result"
    }
   ],
   "source": [
    "df['dependants'].value_counts()"
   ]
  },
  {
   "cell_type": "code",
   "execution_count": 71,
   "id": "0aaba3c2",
   "metadata": {},
   "outputs": [],
   "source": [
    "pd.set_option('display.max_columns', None)"
   ]
  },
  {
   "cell_type": "code",
   "execution_count": 72,
   "id": "8791d95d",
   "metadata": {},
   "outputs": [
    {
     "data": {
      "text/plain": [
       "count    3.062974e+07\n",
       "mean     9.918011e+00\n",
       "std      6.281766e+00\n",
       "min      1.000000e+00\n",
       "25%      4.000000e+00\n",
       "50%      9.000000e+00\n",
       "75%      1.600000e+01\n",
       "max      2.100000e+01\n",
       "Name: department_id, dtype: float64"
      ]
     },
     "execution_count": 72,
     "metadata": {},
     "output_type": "execute_result"
    }
   ],
   "source": [
    "df['department_id'].describe()"
   ]
  },
  {
   "cell_type": "code",
   "execution_count": 73,
   "id": "620235a0",
   "metadata": {},
   "outputs": [],
   "source": [
    "#Assigning names to each department\n",
    "department_names = {1: 'Frozen', 2: 'Other', 3: 'Bakery', 4: 'Produce',5: 'Alcohol', 6: 'International',7: 'Beverages', 8:'Pets',9:'Dry Goods Pasta',10: 'Bulk', 11: 'Personal Care', 12: 'Meat/Seafood', 13: 'Pantry', 14: 'Breakfast',15:'Canned Goods', 16: 'Dairy/Eggs', 17: 'Household', 18: ' Babies', 19:'Snacks',20:'Deli',21:'Missing'}"
   ]
  },
  {
   "cell_type": "markdown",
   "id": "63ef8259",
   "metadata": {},
   "source": [
    "### Visualizations"
   ]
  },
  {
   "cell_type": "code",
   "execution_count": 74,
   "id": "39848e92",
   "metadata": {},
   "outputs": [
    {
     "data": {
      "image/png": "[encoded data removed]",
      "text/plain": [
       "<Figure size 640x480 with 1 Axes>"
      ]
     },
     "metadata": {},
     "output_type": "display_data"
    }
   ],
   "source": [
    "#Bar chart for age group\n",
    "bar_age_groups = df['age_group'].value_counts().plot.bar()"
   ]
  },
  {
   "cell_type": "code",
   "execution_count": 75,
   "id": "d0b6070d",
   "metadata": {},
   "outputs": [],
   "source": [
    "#Exporting\n",
    "bar_age_groups.figure.savefig(os.path.join(path, 'Deliverables', 'bar_age_groups.png'))"
   ]
  },
  {
   "cell_type": "code",
   "execution_count": 82,
   "id": "5c949b80",
   "metadata": {},
   "outputs": [],
   "source": [
    "#Bar chart for income across age groups\n",
    "age_group_labels = ['Middle Age', 'Senior', 'Young Adult']\n",
    "income_count = [11409932, 10728098, 8491711] "
   ]
  },
  {
   "cell_type": "code",
   "execution_count": 137,
   "id": "c120d026",
   "metadata": {},
   "outputs": [
    {
     "data": {
      "image/png": "[encoded data removed]",
      "text/plain": [
       "<Figure size 640x480 with 1 Axes>"
      ]
     },
     "metadata": {},
     "output_type": "display_data"
    }
   ],
   "source": [
    "bar_age_group_income = plt.bar(age_group_labels, income_count)\n",
    "plt.xlabel('Age Groups')\n",
    "plt.ylabel('Income')\n",
    "plt.xticks(rotation=45)\n",
    "bar_figure = plt.gcf() \n",
    "output_path1 = '/Users/sebreawilmore/Instacart Basket Analysis/Deliverables/bar_age_groups_income.png' \n",
    "plt.savefig(output_path1)"
   ]
  },
  {
   "cell_type": "code",
   "execution_count": 133,
   "id": "85460ade",
   "metadata": {
    "scrolled": true
   },
   "outputs": [],
   "source": [
    "#Bar chart for department \n",
    "department_counts = df['department_name'].value_counts()"
   ]
  },
  {
   "cell_type": "code",
   "execution_count": 134,
   "id": "7d1047c8",
   "metadata": {},
   "outputs": [
    {
     "data": {
      "text/plain": [
       "Produce            8963496\n",
       "Dairy/Eggs         5101185\n",
       "Snacks             2730482\n",
       "Beverages          2540159\n",
       "Frozen             2113059\n",
       "Pantry             1771171\n",
       "Bakery             1108540\n",
       "Canned Goods       1009660\n",
       "Deli                993564\n",
       "Dry Goods Pasta     819814\n",
       "Household           696686\n",
       "Meat/Seafood        671242\n",
       "Breakfast           663250\n",
       "Personal Care       421568\n",
       "Babies              400378\n",
       "International       254641\n",
       "Alcohol             146535\n",
       "Pets                 92253\n",
       "Missing              65411\n",
       "Other                34035\n",
       "Bulk                 32612\n",
       "Name: department_name, dtype: int64"
      ]
     },
     "execution_count": 134,
     "metadata": {},
     "output_type": "execute_result"
    }
   ],
   "source": [
    "department_counts"
   ]
  },
  {
   "cell_type": "code",
   "execution_count": 135,
   "id": "0da44526",
   "metadata": {
    "scrolled": false
   },
   "outputs": [
    {
     "data": {
      "image/png": "[encoded data removed]",
      "text/plain": [
       "<Figure size 640x480 with 1 Axes>"
      ]
     },
     "metadata": {},
     "output_type": "display_data"
    }
   ],
   "source": [
    "bar_department_frequency = df['department_name'].value_counts().plot.bar()"
   ]
  },
  {
   "cell_type": "code",
   "execution_count": 138,
   "id": "1906cacd",
   "metadata": {},
   "outputs": [],
   "source": [
    "#Exporting bar chart\n",
    "bar_department_frequency.figure.savefig(os.path.join(path, 'Deliverables', 'bar_department_frequency.png'))"
   ]
  },
  {
   "cell_type": "code",
   "execution_count": 112,
   "id": "01b5c9ef",
   "metadata": {},
   "outputs": [],
   "source": [
    "df.loc[df['department_id'] == 1.0, 'department_name'] = 'Frozen'"
   ]
  },
  {
   "cell_type": "code",
   "execution_count": 113,
   "id": "a28a257a",
   "metadata": {},
   "outputs": [],
   "source": [
    "df.loc[df['department_id'] == 2.0, 'department_name'] = 'Other'"
   ]
  },
  {
   "cell_type": "code",
   "execution_count": 114,
   "id": "ea057763",
   "metadata": {},
   "outputs": [],
   "source": [
    "df.loc[df['department_id'] == 3.0, 'department_name'] = 'Bakery'"
   ]
  },
  {
   "cell_type": "code",
   "execution_count": 115,
   "id": "a98e3677",
   "metadata": {},
   "outputs": [],
   "source": [
    "df.loc[df['department_id'] == 4.0, 'department_name'] = 'Produce'"
   ]
  },
  {
   "cell_type": "code",
   "execution_count": 116,
   "id": "20895b84",
   "metadata": {},
   "outputs": [],
   "source": [
    "df.loc[df['department_id'] == 5.0, 'department_name'] = 'Alcohol'"
   ]
  },
  {
   "cell_type": "code",
   "execution_count": 117,
   "id": "de6b8039",
   "metadata": {},
   "outputs": [],
   "source": [
    "df.loc[df['department_id'] == 6.0, 'department_name'] = 'International'"
   ]
  },
  {
   "cell_type": "code",
   "execution_count": 118,
   "id": "0959723a",
   "metadata": {},
   "outputs": [],
   "source": [
    "df.loc[df['department_id'] == 7.0, 'department_name'] = 'Beverages'"
   ]
  },
  {
   "cell_type": "code",
   "execution_count": 119,
   "id": "04e88a1f",
   "metadata": {},
   "outputs": [],
   "source": [
    "df.loc[df['department_id'] == 8.0, 'department_name'] = 'Pets'"
   ]
  },
  {
   "cell_type": "code",
   "execution_count": 120,
   "id": "785d3df4",
   "metadata": {},
   "outputs": [],
   "source": [
    "df.loc[df['department_id'] == 9.0, 'department_name'] = 'Dry Goods Pasta'"
   ]
  },
  {
   "cell_type": "code",
   "execution_count": 121,
   "id": "ed3a5642",
   "metadata": {},
   "outputs": [],
   "source": [
    "df.loc[df['department_id'] == 10.0, 'department_name'] = 'Bulk'"
   ]
  },
  {
   "cell_type": "code",
   "execution_count": 122,
   "id": "3bf16147",
   "metadata": {},
   "outputs": [],
   "source": [
    "df.loc[df['department_id'] == 11.0, 'department_name'] = 'Personal Care'"
   ]
  },
  {
   "cell_type": "code",
   "execution_count": 123,
   "id": "9041ce27",
   "metadata": {},
   "outputs": [],
   "source": [
    "df.loc[df['department_id'] == 12.0, 'department_name'] = 'Meat/Seafood'"
   ]
  },
  {
   "cell_type": "code",
   "execution_count": 124,
   "id": "41b994fa",
   "metadata": {},
   "outputs": [],
   "source": [
    "df.loc[df['department_id'] == 13.0, 'department_name'] = 'Pantry'"
   ]
  },
  {
   "cell_type": "code",
   "execution_count": 125,
   "id": "5818262c",
   "metadata": {},
   "outputs": [],
   "source": [
    "df.loc[df['department_id'] == 14.0, 'department_name'] = 'Breakfast'"
   ]
  },
  {
   "cell_type": "code",
   "execution_count": 126,
   "id": "1bec054c",
   "metadata": {},
   "outputs": [],
   "source": [
    "df.loc[df['department_id'] == 15.0, 'department_name'] = 'Canned Goods'"
   ]
  },
  {
   "cell_type": "code",
   "execution_count": 127,
   "id": "4518ea0f",
   "metadata": {},
   "outputs": [],
   "source": [
    "df.loc[df['department_id'] == 16.0, 'department_name'] = 'Dairy/Eggs'"
   ]
  },
  {
   "cell_type": "code",
   "execution_count": 128,
   "id": "19789078",
   "metadata": {},
   "outputs": [],
   "source": [
    "df.loc[df['department_id'] == 17.0, 'department_name'] = 'Household'"
   ]
  },
  {
   "cell_type": "code",
   "execution_count": 129,
   "id": "3a36b951",
   "metadata": {},
   "outputs": [],
   "source": [
    "df.loc[df['department_id'] == 18.0, 'department_name'] = 'Babies'"
   ]
  },
  {
   "cell_type": "code",
   "execution_count": 130,
   "id": "33987eeb",
   "metadata": {},
   "outputs": [],
   "source": [
    "df.loc[df['department_id'] == 19.0, 'department_name'] = 'Snacks'"
   ]
  },
  {
   "cell_type": "code",
   "execution_count": 131,
   "id": "0cbd84b5",
   "metadata": {},
   "outputs": [],
   "source": [
    "df.loc[df['department_id'] == 20.0, 'department_name'] = 'Deli'"
   ]
  },
  {
   "cell_type": "code",
   "execution_count": 132,
   "id": "7f37a97a",
   "metadata": {},
   "outputs": [],
   "source": [
    "df.loc[df['department_id'] == 21.0, 'department_name'] = 'Missing'"
   ]
  },
  {
   "cell_type": "code",
   "execution_count": 146,
   "id": "23797087",
   "metadata": {},
   "outputs": [],
   "source": [
    "#Grouping age group & department\n",
    "age_department_groups = df.groupby(['department_name','age_group']).size().unstack(fill_value=0)"
   ]
  },
  {
   "cell_type": "code",
   "execution_count": 147,
   "id": "3bb01e95",
   "metadata": {},
   "outputs": [
    {
     "data": {
      "image/png": "[encoded data removed]",
      "text/plain": [
       "<Figure size 640x480 with 1 Axes>"
      ]
     },
     "metadata": {},
     "output_type": "display_data"
    }
   ],
   "source": [
    "#Bar chart for age group & department\n",
    "bar_age_department = age_department_groups.plot.bar(stacked=True)"
   ]
  },
  {
   "cell_type": "code",
   "execution_count": 148,
   "id": "be35db52",
   "metadata": {},
   "outputs": [],
   "source": [
    "#Exporting bar chart\n",
    "bar_age_department.figure.savefig(os.path.join(path, 'Deliverables', 'bar_age_department.png'))"
   ]
  },
  {
   "cell_type": "code",
   "execution_count": 150,
   "id": "0be78cca",
   "metadata": {},
   "outputs": [],
   "source": [
    "#Grouping department and income \n",
    "age_department_income = df.groupby(['department_name','income_bracket']).size().unstack(fill_value=0)"
   ]
  },
  {
   "cell_type": "code",
   "execution_count": 151,
   "id": "3a567552",
   "metadata": {},
   "outputs": [
    {
     "data": {
      "image/png": "[encoded data removed]",
      "text/plain": [
       "<Figure size 640x480 with 1 Axes>"
      ]
     },
     "metadata": {},
     "output_type": "display_data"
    }
   ],
   "source": [
    "bar_department_income = age_department_income.plot.bar(stacked=True)"
   ]
  },
  {
   "cell_type": "code",
   "execution_count": 152,
   "id": "8d9af6cd",
   "metadata": {},
   "outputs": [],
   "source": [
    "#Exporting\n",
    "bar_department_income.figure.savefig(os.path.join(path, 'Deliverables', 'bar_department_income.png'))"
   ]
  },
  {
   "cell_type": "code",
   "execution_count": 153,
   "id": "6d380f03",
   "metadata": {},
   "outputs": [],
   "source": [
    "#Grouping dependant status and marital status\n",
    "marital_status_dependant = df.groupby(['marital_status','dependants']).size().unstack(fill_value=0)"
   ]
  },
  {
   "cell_type": "code",
   "execution_count": 154,
   "id": "1c8e231a",
   "metadata": {},
   "outputs": [
    {
     "data": {
      "image/png": "[encoded data removed]",
      "text/plain": [
       "<Figure size 640x480 with 1 Axes>"
      ]
     },
     "metadata": {},
     "output_type": "display_data"
    }
   ],
   "source": [
    "#Corresponding bar chart\n",
    "bar_maritalstatus_dependant = marital_status_dependant.plot.bar(stacked=True)"
   ]
  },
  {
   "cell_type": "code",
   "execution_count": 155,
   "id": "1ae76686",
   "metadata": {},
   "outputs": [],
   "source": [
    "#Exporting\n",
    "bar_maritalstatus_dependant.figure.savefig(os.path.join(path, 'Deliverables', 'bar_maritalstatus_dependant.png'))"
   ]
  },
  {
   "cell_type": "code",
   "execution_count": 160,
   "id": "92827ba5",
   "metadata": {},
   "outputs": [],
   "source": [
    "#Grouping age groups with regions\n",
    "age_region = df.groupby(['region','age_group']).size().unstack(fill_value=0)"
   ]
  },
  {
   "cell_type": "code",
   "execution_count": 161,
   "id": "eca179df",
   "metadata": {},
   "outputs": [
    {
     "data": {
      "image/png": "[encoded data removed]",
      "text/plain": [
       "<Figure size 640x480 with 1 Axes>"
      ]
     },
     "metadata": {},
     "output_type": "display_data"
    }
   ],
   "source": [
    "agegroup_region = age_region.plot.bar(stacked=True)"
   ]
  },
  {
   "cell_type": "code",
   "execution_count": 162,
   "id": "ae70b0f1",
   "metadata": {},
   "outputs": [],
   "source": [
    "#Exporting\n",
    "agegroup_region.figure.savefig(os.path.join(path, 'Deliverables', 'agegroup_region.png'))"
   ]
  },
  {
   "cell_type": "code",
   "execution_count": 163,
   "id": "5057d181",
   "metadata": {},
   "outputs": [],
   "source": [
    "#Grouping region & dependant status\n",
    "region_dependantstatus = df.groupby(['region','dependants']).size().unstack(fill_value=0)"
   ]
  },
  {
   "cell_type": "code",
   "execution_count": 167,
   "id": "88697149",
   "metadata": {},
   "outputs": [
    {
     "data": {
      "image/png": "[encoded data removed]",
      "text/plain": [
       "<Figure size 640x480 with 1 Axes>"
      ]
     },
     "metadata": {},
     "output_type": "display_data"
    }
   ],
   "source": [
    "#Bar chart\n",
    "region_dependants = region_dependantstatus.plot.bar(stacked=True)"
   ]
  },
  {
   "cell_type": "code",
   "execution_count": 170,
   "id": "051a7478",
   "metadata": {},
   "outputs": [],
   "source": [
    "#Grouping region and income\n",
    "region_income = df.groupby(['region','income_bracket']).size().unstack(fill_value=0)"
   ]
  },
  {
   "cell_type": "code",
   "execution_count": 171,
   "id": "3899c9c0",
   "metadata": {},
   "outputs": [
    {
     "data": {
      "image/png": "[encoded data removed]",
      "text/plain": [
       "<Figure size 640x480 with 1 Axes>"
      ]
     },
     "metadata": {},
     "output_type": "display_data"
    }
   ],
   "source": [
    "regional_income = region_income.plot.bar(stacked=True)"
   ]
  },
  {
   "cell_type": "code",
   "execution_count": 172,
   "id": "01c0ef5e",
   "metadata": {},
   "outputs": [],
   "source": [
    "regional_income.figure.savefig(os.path.join(path, 'Deliverables', 'regional_income.png'))"
   ]
  },
  {
   "cell_type": "markdown",
   "id": "74545f8d",
   "metadata": {},
   "source": [
    "### Customer Profile Aggregations"
   ]
  },
  {
   "cell_type": "code",
   "execution_count": 173,
   "id": "6c7ae422",
   "metadata": {},
   "outputs": [
    {
     "data": {
      "text/html": [
       "<div>\n",
       "<style scoped>\n",
       "    .dataframe tbody tr th:only-of-type {\n",
       "        vertical-align: middle;\n",
       "    }\n",
       "\n",
       "    .dataframe tbody tr th {\n",
       "        vertical-align: top;\n",
       "    }\n",
       "\n",
       "    .dataframe thead tr th {\n",
       "        text-align: left;\n",
       "    }\n",
       "\n",
       "    .dataframe thead tr:last-of-type th {\n",
       "        text-align: right;\n",
       "    }\n",
       "</style>\n",
       "<table border=\"1\" class=\"dataframe\">\n",
       "  <thead>\n",
       "    <tr>\n",
       "      <th></th>\n",
       "      <th colspan=\"3\" halign=\"left\">prices</th>\n",
       "    </tr>\n",
       "    <tr>\n",
       "      <th></th>\n",
       "      <th>mean</th>\n",
       "      <th>min</th>\n",
       "      <th>max</th>\n",
       "    </tr>\n",
       "    <tr>\n",
       "      <th>age_group</th>\n",
       "      <th></th>\n",
       "      <th></th>\n",
       "      <th></th>\n",
       "    </tr>\n",
       "  </thead>\n",
       "  <tbody>\n",
       "    <tr>\n",
       "      <th>Middle Age</th>\n",
       "      <td>11.979723</td>\n",
       "      <td>1.0</td>\n",
       "      <td>99999.0</td>\n",
       "    </tr>\n",
       "    <tr>\n",
       "      <th>Senior</th>\n",
       "      <td>11.610695</td>\n",
       "      <td>1.0</td>\n",
       "      <td>99999.0</td>\n",
       "    </tr>\n",
       "    <tr>\n",
       "      <th>Teenager</th>\n",
       "      <td>10.445229</td>\n",
       "      <td>1.0</td>\n",
       "      <td>99999.0</td>\n",
       "    </tr>\n",
       "    <tr>\n",
       "      <th>Young Adult</th>\n",
       "      <td>12.333915</td>\n",
       "      <td>1.0</td>\n",
       "      <td>99999.0</td>\n",
       "    </tr>\n",
       "  </tbody>\n",
       "</table>\n",
       "</div>"
      ],
      "text/plain": [
       "                prices              \n",
       "                  mean  min      max\n",
       "age_group                           \n",
       "Middle Age   11.979723  1.0  99999.0\n",
       "Senior       11.610695  1.0  99999.0\n",
       "Teenager     10.445229  1.0  99999.0\n",
       "Young Adult  12.333915  1.0  99999.0"
      ]
     },
     "execution_count": 173,
     "metadata": {},
     "output_type": "execute_result"
    }
   ],
   "source": [
    "#Age Group Spending\n",
    "df.groupby('age_group').agg({'prices': ['mean', 'min', 'max']})"
   ]
  },
  {
   "cell_type": "code",
   "execution_count": 174,
   "id": "5c8a9fc7",
   "metadata": {},
   "outputs": [
    {
     "data": {
      "text/html": [
       "<div>\n",
       "<style scoped>\n",
       "    .dataframe tbody tr th:only-of-type {\n",
       "        vertical-align: middle;\n",
       "    }\n",
       "\n",
       "    .dataframe tbody tr th {\n",
       "        vertical-align: top;\n",
       "    }\n",
       "\n",
       "    .dataframe thead tr th {\n",
       "        text-align: left;\n",
       "    }\n",
       "\n",
       "    .dataframe thead tr:last-of-type th {\n",
       "        text-align: right;\n",
       "    }\n",
       "</style>\n",
       "<table border=\"1\" class=\"dataframe\">\n",
       "  <thead>\n",
       "    <tr>\n",
       "      <th></th>\n",
       "      <th colspan=\"3\" halign=\"left\">prices</th>\n",
       "    </tr>\n",
       "    <tr>\n",
       "      <th></th>\n",
       "      <th>mean</th>\n",
       "      <th>min</th>\n",
       "      <th>max</th>\n",
       "    </tr>\n",
       "    <tr>\n",
       "      <th>income_bracket</th>\n",
       "      <th></th>\n",
       "      <th></th>\n",
       "      <th></th>\n",
       "    </tr>\n",
       "  </thead>\n",
       "  <tbody>\n",
       "    <tr>\n",
       "      <th>Higher income</th>\n",
       "      <td>17.925759</td>\n",
       "      <td>1.0</td>\n",
       "      <td>99999.0</td>\n",
       "    </tr>\n",
       "    <tr>\n",
       "      <th>Lower income</th>\n",
       "      <td>7.359365</td>\n",
       "      <td>1.0</td>\n",
       "      <td>14900.0</td>\n",
       "    </tr>\n",
       "    <tr>\n",
       "      <th>Middle income</th>\n",
       "      <td>9.133294</td>\n",
       "      <td>1.0</td>\n",
       "      <td>99999.0</td>\n",
       "    </tr>\n",
       "  </tbody>\n",
       "</table>\n",
       "</div>"
      ],
      "text/plain": [
       "                   prices              \n",
       "                     mean  min      max\n",
       "income_bracket                         \n",
       "Higher income   17.925759  1.0  99999.0\n",
       "Lower income     7.359365  1.0  14900.0\n",
       "Middle income    9.133294  1.0  99999.0"
      ]
     },
     "execution_count": 174,
     "metadata": {},
     "output_type": "execute_result"
    }
   ],
   "source": [
    "#Income bracket spending\n",
    "df.groupby('income_bracket').agg({'prices': ['mean', 'min', 'max']})"
   ]
  },
  {
   "cell_type": "code",
   "execution_count": 178,
   "id": "0831f02e",
   "metadata": {},
   "outputs": [
    {
     "data": {
      "text/html": [
       "<div>\n",
       "<style scoped>\n",
       "    .dataframe tbody tr th:only-of-type {\n",
       "        vertical-align: middle;\n",
       "    }\n",
       "\n",
       "    .dataframe tbody tr th {\n",
       "        vertical-align: top;\n",
       "    }\n",
       "\n",
       "    .dataframe thead tr th {\n",
       "        text-align: left;\n",
       "    }\n",
       "\n",
       "    .dataframe thead tr:last-of-type th {\n",
       "        text-align: right;\n",
       "    }\n",
       "</style>\n",
       "<table border=\"1\" class=\"dataframe\">\n",
       "  <thead>\n",
       "    <tr>\n",
       "      <th></th>\n",
       "      <th colspan=\"3\" halign=\"left\">prices</th>\n",
       "    </tr>\n",
       "    <tr>\n",
       "      <th></th>\n",
       "      <th>mean</th>\n",
       "      <th>min</th>\n",
       "      <th>max</th>\n",
       "    </tr>\n",
       "    <tr>\n",
       "      <th>dependants</th>\n",
       "      <th></th>\n",
       "      <th></th>\n",
       "      <th></th>\n",
       "    </tr>\n",
       "  </thead>\n",
       "  <tbody>\n",
       "    <tr>\n",
       "      <th>Has Dependants</th>\n",
       "      <td>11.834785</td>\n",
       "      <td>1.0</td>\n",
       "      <td>99999.0</td>\n",
       "    </tr>\n",
       "    <tr>\n",
       "      <th>No Dependants</th>\n",
       "      <td>12.163131</td>\n",
       "      <td>1.0</td>\n",
       "      <td>99999.0</td>\n",
       "    </tr>\n",
       "  </tbody>\n",
       "</table>\n",
       "</div>"
      ],
      "text/plain": [
       "                   prices              \n",
       "                     mean  min      max\n",
       "dependants                             \n",
       "Has Dependants  11.834785  1.0  99999.0\n",
       "No Dependants   12.163131  1.0  99999.0"
      ]
     },
     "execution_count": 178,
     "metadata": {},
     "output_type": "execute_result"
    }
   ],
   "source": [
    "#Dependant status spending\n",
    "df.groupby('dependants').agg({'prices': ['mean', 'min', 'max']})"
   ]
  },
  {
   "cell_type": "code",
   "execution_count": 179,
   "id": "af7ab065",
   "metadata": {},
   "outputs": [
    {
     "data": {
      "text/html": [
       "<div>\n",
       "<style scoped>\n",
       "    .dataframe tbody tr th:only-of-type {\n",
       "        vertical-align: middle;\n",
       "    }\n",
       "\n",
       "    .dataframe tbody tr th {\n",
       "        vertical-align: top;\n",
       "    }\n",
       "\n",
       "    .dataframe thead tr th {\n",
       "        text-align: left;\n",
       "    }\n",
       "\n",
       "    .dataframe thead tr:last-of-type th {\n",
       "        text-align: right;\n",
       "    }\n",
       "</style>\n",
       "<table border=\"1\" class=\"dataframe\">\n",
       "  <thead>\n",
       "    <tr>\n",
       "      <th></th>\n",
       "      <th colspan=\"3\" halign=\"left\">prices</th>\n",
       "    </tr>\n",
       "    <tr>\n",
       "      <th></th>\n",
       "      <th>mean</th>\n",
       "      <th>min</th>\n",
       "      <th>max</th>\n",
       "    </tr>\n",
       "    <tr>\n",
       "      <th>marital_status</th>\n",
       "      <th></th>\n",
       "      <th></th>\n",
       "      <th></th>\n",
       "    </tr>\n",
       "  </thead>\n",
       "  <tbody>\n",
       "    <tr>\n",
       "      <th>divorced/widowed</th>\n",
       "      <td>11.510816</td>\n",
       "      <td>1.0</td>\n",
       "      <td>99999.0</td>\n",
       "    </tr>\n",
       "    <tr>\n",
       "      <th>living with parents and siblings</th>\n",
       "      <td>10.958550</td>\n",
       "      <td>1.0</td>\n",
       "      <td>99999.0</td>\n",
       "    </tr>\n",
       "    <tr>\n",
       "      <th>married</th>\n",
       "      <td>11.894704</td>\n",
       "      <td>1.0</td>\n",
       "      <td>99999.0</td>\n",
       "    </tr>\n",
       "    <tr>\n",
       "      <th>single</th>\n",
       "      <td>12.504895</td>\n",
       "      <td>1.0</td>\n",
       "      <td>99999.0</td>\n",
       "    </tr>\n",
       "  </tbody>\n",
       "</table>\n",
       "</div>"
      ],
      "text/plain": [
       "                                     prices              \n",
       "                                       mean  min      max\n",
       "marital_status                                           \n",
       "divorced/widowed                  11.510816  1.0  99999.0\n",
       "living with parents and siblings  10.958550  1.0  99999.0\n",
       "married                           11.894704  1.0  99999.0\n",
       "single                            12.504895  1.0  99999.0"
      ]
     },
     "execution_count": 179,
     "metadata": {},
     "output_type": "execute_result"
    }
   ],
   "source": [
    "#Marital status spending\n",
    "df.groupby('marital_status').agg({'prices': ['mean', 'min', 'max']})"
   ]
  },
  {
   "cell_type": "code",
   "execution_count": 181,
   "id": "071a9e4d",
   "metadata": {},
   "outputs": [
    {
     "data": {
      "text/html": [
       "<div>\n",
       "<style scoped>\n",
       "    .dataframe tbody tr th:only-of-type {\n",
       "        vertical-align: middle;\n",
       "    }\n",
       "\n",
       "    .dataframe tbody tr th {\n",
       "        vertical-align: top;\n",
       "    }\n",
       "\n",
       "    .dataframe thead tr th {\n",
       "        text-align: left;\n",
       "    }\n",
       "\n",
       "    .dataframe thead tr:last-of-type th {\n",
       "        text-align: right;\n",
       "    }\n",
       "</style>\n",
       "<table border=\"1\" class=\"dataframe\">\n",
       "  <thead>\n",
       "    <tr>\n",
       "      <th></th>\n",
       "      <th colspan=\"3\" halign=\"left\">days_since_prior_order</th>\n",
       "    </tr>\n",
       "    <tr>\n",
       "      <th></th>\n",
       "      <th>mean</th>\n",
       "      <th>min</th>\n",
       "      <th>max</th>\n",
       "    </tr>\n",
       "    <tr>\n",
       "      <th>age_group</th>\n",
       "      <th></th>\n",
       "      <th></th>\n",
       "      <th></th>\n",
       "    </tr>\n",
       "  </thead>\n",
       "  <tbody>\n",
       "    <tr>\n",
       "      <th>Middle Age</th>\n",
       "      <td>11.114926</td>\n",
       "      <td>0.0</td>\n",
       "      <td>30.0</td>\n",
       "    </tr>\n",
       "    <tr>\n",
       "      <th>Senior</th>\n",
       "      <td>11.080959</td>\n",
       "      <td>0.0</td>\n",
       "      <td>30.0</td>\n",
       "    </tr>\n",
       "    <tr>\n",
       "      <th>Teenager</th>\n",
       "      <td>11.152995</td>\n",
       "      <td>0.0</td>\n",
       "      <td>30.0</td>\n",
       "    </tr>\n",
       "    <tr>\n",
       "      <th>Young Adult</th>\n",
       "      <td>11.129356</td>\n",
       "      <td>0.0</td>\n",
       "      <td>30.0</td>\n",
       "    </tr>\n",
       "  </tbody>\n",
       "</table>\n",
       "</div>"
      ],
      "text/plain": [
       "            days_since_prior_order           \n",
       "                              mean  min   max\n",
       "age_group                                    \n",
       "Middle Age               11.114926  0.0  30.0\n",
       "Senior                   11.080959  0.0  30.0\n",
       "Teenager                 11.152995  0.0  30.0\n",
       "Young Adult              11.129356  0.0  30.0"
      ]
     },
     "execution_count": 181,
     "metadata": {},
     "output_type": "execute_result"
    }
   ],
   "source": [
    "#Age group activity level\n",
    "df.groupby('age_group').agg({'days_since_prior_order': ['mean', 'min', 'max']})"
   ]
  },
  {
   "cell_type": "code",
   "execution_count": 182,
   "id": "7a67f7c0",
   "metadata": {},
   "outputs": [
    {
     "data": {
      "text/html": [
       "<div>\n",
       "<style scoped>\n",
       "    .dataframe tbody tr th:only-of-type {\n",
       "        vertical-align: middle;\n",
       "    }\n",
       "\n",
       "    .dataframe tbody tr th {\n",
       "        vertical-align: top;\n",
       "    }\n",
       "\n",
       "    .dataframe thead tr th {\n",
       "        text-align: left;\n",
       "    }\n",
       "\n",
       "    .dataframe thead tr:last-of-type th {\n",
       "        text-align: right;\n",
       "    }\n",
       "</style>\n",
       "<table border=\"1\" class=\"dataframe\">\n",
       "  <thead>\n",
       "    <tr>\n",
       "      <th></th>\n",
       "      <th colspan=\"3\" halign=\"left\">days_since_prior_order</th>\n",
       "    </tr>\n",
       "    <tr>\n",
       "      <th></th>\n",
       "      <th>mean</th>\n",
       "      <th>min</th>\n",
       "      <th>max</th>\n",
       "    </tr>\n",
       "    <tr>\n",
       "      <th>income_bracket</th>\n",
       "      <th></th>\n",
       "      <th></th>\n",
       "      <th></th>\n",
       "    </tr>\n",
       "  </thead>\n",
       "  <tbody>\n",
       "    <tr>\n",
       "      <th>Higher income</th>\n",
       "      <td>11.043451</td>\n",
       "      <td>0.0</td>\n",
       "      <td>30.0</td>\n",
       "    </tr>\n",
       "    <tr>\n",
       "      <th>Lower income</th>\n",
       "      <td>11.290482</td>\n",
       "      <td>0.0</td>\n",
       "      <td>30.0</td>\n",
       "    </tr>\n",
       "    <tr>\n",
       "      <th>Middle income</th>\n",
       "      <td>11.040118</td>\n",
       "      <td>0.0</td>\n",
       "      <td>30.0</td>\n",
       "    </tr>\n",
       "  </tbody>\n",
       "</table>\n",
       "</div>"
      ],
      "text/plain": [
       "               days_since_prior_order           \n",
       "                                 mean  min   max\n",
       "income_bracket                                  \n",
       "Higher income               11.043451  0.0  30.0\n",
       "Lower income                11.290482  0.0  30.0\n",
       "Middle income               11.040118  0.0  30.0"
      ]
     },
     "execution_count": 182,
     "metadata": {},
     "output_type": "execute_result"
    }
   ],
   "source": [
    "#Income bracket activity level\n",
    "df.groupby('income_bracket').agg({'days_since_prior_order': ['mean', 'min', 'max']})"
   ]
  },
  {
   "cell_type": "code",
   "execution_count": 183,
   "id": "702ee754",
   "metadata": {},
   "outputs": [
    {
     "data": {
      "text/html": [
       "<div>\n",
       "<style scoped>\n",
       "    .dataframe tbody tr th:only-of-type {\n",
       "        vertical-align: middle;\n",
       "    }\n",
       "\n",
       "    .dataframe tbody tr th {\n",
       "        vertical-align: top;\n",
       "    }\n",
       "\n",
       "    .dataframe thead tr th {\n",
       "        text-align: left;\n",
       "    }\n",
       "\n",
       "    .dataframe thead tr:last-of-type th {\n",
       "        text-align: right;\n",
       "    }\n",
       "</style>\n",
       "<table border=\"1\" class=\"dataframe\">\n",
       "  <thead>\n",
       "    <tr>\n",
       "      <th></th>\n",
       "      <th colspan=\"3\" halign=\"left\">days_since_prior_order</th>\n",
       "    </tr>\n",
       "    <tr>\n",
       "      <th></th>\n",
       "      <th>mean</th>\n",
       "      <th>min</th>\n",
       "      <th>max</th>\n",
       "    </tr>\n",
       "    <tr>\n",
       "      <th>dependants</th>\n",
       "      <th></th>\n",
       "      <th></th>\n",
       "      <th></th>\n",
       "    </tr>\n",
       "  </thead>\n",
       "  <tbody>\n",
       "    <tr>\n",
       "      <th>Has Dependants</th>\n",
       "      <td>11.119048</td>\n",
       "      <td>0.0</td>\n",
       "      <td>30.0</td>\n",
       "    </tr>\n",
       "    <tr>\n",
       "      <th>No Dependants</th>\n",
       "      <td>11.084925</td>\n",
       "      <td>0.0</td>\n",
       "      <td>30.0</td>\n",
       "    </tr>\n",
       "  </tbody>\n",
       "</table>\n",
       "</div>"
      ],
      "text/plain": [
       "               days_since_prior_order           \n",
       "                                 mean  min   max\n",
       "dependants                                      \n",
       "Has Dependants              11.119048  0.0  30.0\n",
       "No Dependants               11.084925  0.0  30.0"
      ]
     },
     "execution_count": 183,
     "metadata": {},
     "output_type": "execute_result"
    }
   ],
   "source": [
    "#Dependant status activity level\n",
    "df.groupby('dependants').agg({'days_since_prior_order': ['mean', 'min', 'max']})"
   ]
  },
  {
   "cell_type": "code",
   "execution_count": 184,
   "id": "0d3d8aa9",
   "metadata": {},
   "outputs": [
    {
     "data": {
      "text/html": [
       "<div>\n",
       "<style scoped>\n",
       "    .dataframe tbody tr th:only-of-type {\n",
       "        vertical-align: middle;\n",
       "    }\n",
       "\n",
       "    .dataframe tbody tr th {\n",
       "        vertical-align: top;\n",
       "    }\n",
       "\n",
       "    .dataframe thead tr th {\n",
       "        text-align: left;\n",
       "    }\n",
       "\n",
       "    .dataframe thead tr:last-of-type th {\n",
       "        text-align: right;\n",
       "    }\n",
       "</style>\n",
       "<table border=\"1\" class=\"dataframe\">\n",
       "  <thead>\n",
       "    <tr>\n",
       "      <th></th>\n",
       "      <th colspan=\"3\" halign=\"left\">days_since_prior_order</th>\n",
       "    </tr>\n",
       "    <tr>\n",
       "      <th></th>\n",
       "      <th>mean</th>\n",
       "      <th>min</th>\n",
       "      <th>max</th>\n",
       "    </tr>\n",
       "    <tr>\n",
       "      <th>marital_status</th>\n",
       "      <th></th>\n",
       "      <th></th>\n",
       "      <th></th>\n",
       "    </tr>\n",
       "  </thead>\n",
       "  <tbody>\n",
       "    <tr>\n",
       "      <th>divorced/widowed</th>\n",
       "      <td>11.027251</td>\n",
       "      <td>0.0</td>\n",
       "      <td>30.0</td>\n",
       "    </tr>\n",
       "    <tr>\n",
       "      <th>living with parents and siblings</th>\n",
       "      <td>11.047268</td>\n",
       "      <td>0.0</td>\n",
       "      <td>30.0</td>\n",
       "    </tr>\n",
       "    <tr>\n",
       "      <th>married</th>\n",
       "      <td>11.123960</td>\n",
       "      <td>0.0</td>\n",
       "      <td>30.0</td>\n",
       "    </tr>\n",
       "    <tr>\n",
       "      <th>single</th>\n",
       "      <td>11.115149</td>\n",
       "      <td>0.0</td>\n",
       "      <td>30.0</td>\n",
       "    </tr>\n",
       "  </tbody>\n",
       "</table>\n",
       "</div>"
      ],
      "text/plain": [
       "                                 days_since_prior_order           \n",
       "                                                   mean  min   max\n",
       "marital_status                                                    \n",
       "divorced/widowed                              11.027251  0.0  30.0\n",
       "living with parents and siblings              11.047268  0.0  30.0\n",
       "married                                       11.123960  0.0  30.0\n",
       "single                                        11.115149  0.0  30.0"
      ]
     },
     "execution_count": 184,
     "metadata": {},
     "output_type": "execute_result"
    }
   ],
   "source": [
    "#Marital status activity level\n",
    "df.groupby('marital_status').agg({'days_since_prior_order': ['mean', 'min', 'max']})"
   ]
  },
  {
   "cell_type": "code",
   "execution_count": 185,
   "id": "4245b0cf",
   "metadata": {},
   "outputs": [],
   "source": [
    "#Exporting updated dataset\n",
    "df.to_pickle(os.path.join(path, 'Data', 'customers_orders_products.pkl'))"
   ]
  }
 ],
 "metadata": {
  "kernelspec": {
   "display_name": "Python (kernel 2)",
   "language": "python",
   "name": "kernel2"
  },
  "language_info": {
   "codemirror_mode": {
    "name": "ipython",
    "version": 3
   },
   "file_extension": ".py",
   "mimetype": "text/x-python",
   "name": "python",
   "nbconvert_exporter": "python",
   "pygments_lexer": "ipython3",
   "version": "3.10.9"
  }
 },
 "nbformat": 4,
 "nbformat_minor": 5
}
